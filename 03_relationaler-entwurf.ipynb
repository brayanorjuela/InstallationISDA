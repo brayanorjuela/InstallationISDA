{
 "cells": [
  {
   "cell_type": "markdown",
   "metadata": {},
   "source": [
    "# Tutorium 03 -- Relationaler Entwurf"
   ]
  },
  {
   "cell_type": "markdown",
   "metadata": {},
   "source": [
    "## Vom ER-Diagramm zur Relation\n",
    "### Wandle die folgenden ER-Diagramme in Relationen um:"
   ]
  },
  {
   "cell_type": "markdown",
   "metadata": {},
   "source": [
    "1.<img src=\"resources/02-03_modellierung/Tut02_2.png\">"
   ]
  },
  {
   "cell_type": "markdown",
   "metadata": {},
   "source": [
    " 2.<img src=\"resources/02-03_modellierung/Tut02_3.png\">"
   ]
  },
  {
   "cell_type": "markdown",
   "metadata": {},
   "source": [
    "3. <img src=\"resources/02-03_modellierung/Tut02_4.png\">"
   ]
  },
  {
   "cell_type": "markdown",
   "metadata": {},
   "source": [
    "4. <img src=\"resources/02-03_modellierung/Tut02_5.png\">"
   ]
  },
  {
   "cell_type": "markdown",
   "metadata": {},
   "source": [
    "### Erstelle aus dem folgenden Text ein relationales Modell."
   ]
  },
  {
   "cell_type": "markdown",
   "metadata": {},
   "source": [
    "Jeder Besucher hat eine eindeutige ID und einen Namen. Jedes Buch hat einen Autor, einen Namen und eine eindeutige Nummer. Die Besucher können sich beliebige Bücher ausleihen. Jedes Buch kann gleichzeitig von mehreren Personen ausgeliehen werden.\n",
    "Anton mit der ID 12 hat sich das Buch \"Der Herr der Ringe 1\" (Nummer 42) ausgeliehen. Birgit lieh sich letzt Woche die Bücher \"Mio, mein Mio\" (Nummer 101) und \"Ronja Räubertochter\" (Nummer 72) von Astrid Lindgren aus. Ihre Besucher ID ist die 7. \n",
    "Christian (ID 1) ist ein großer Fan von \"J. R. R. Tolkin\" welcher alle \"Der Herr der Ringe\" Bücher geschrieben hat. Daher leiht er sich heute alle drei Bücher von \"Der Herr der Ringe\" aus (Nummern: 42, 43, 44).\n"
   ]
  },
  {
   "cell_type": "markdown",
   "metadata": {},
   "source": [
    "### Wandle folgende Generalisierung/Spezialisierung in Relationen um.\n",
    "#### Mache das mit jedem Stil (ER-, OO und Nullwertstil) und vergleiche die Ergebnisse."
   ]
  },
  {
   "cell_type": "markdown",
   "metadata": {},
   "source": [
    "<img src=\"resources/02-03_modellierung/EERRaum.png\">"
   ]
  },
  {
   "cell_type": "markdown",
   "metadata": {},
   "source": [
    "## Kapazität\n",
    "1. Welche Relation hat eine höhere Kapazität und wieso?\n",
    "Person1(<ins>Name</ins>, Geburtstag, E-Mail)  Person2(<ins>Name</ins>, <ins>Geburtstag</ins>, E-Mail)\n",
    "\n",
    "2. Ist die gegebene Umwandlung des ER-Modells zu Relationen kapazitätserhaltend? Begründe.\n",
    "\n",
    "3. Gib eine kapazitätserhaltende Umwandlung zum folgenden Modell samt Relationen an. Begründe deine Lösung.\n",
    "\n",
    "\n",
    "Auto(Kennzeichen, Modell), gehört(Kennzeichen-Auto,ID->Person), Person(ID,E-Mail,Name)\n",
    "![](resources/02-03_modellierung/Tut03_kapazitaet.png)\n"
   ]
  },
  {
   "cell_type": "markdown",
   "metadata": {},
   "source": [
    "## Aufgabe: Reverse-Engineering von Relationen"
   ]
  },
  {
   "cell_type": "markdown",
   "metadata": {},
   "source": [
    "Erstellen Sie jeweils mindestens ein EER-Modell mit den gegebenen Bausteinen, sodass ein EER-Modell entsteht, welches die gegebene Anzahl an Relationen enthält. Begründen Sie, wie Sie vorgegangen sind.\n",
    "\n",
    "Beispiel:\n",
    "+ Bausteine: 3 Entitytypen, 2 Relationshiptypen\n",
    "+ Anzahl Relationen: 3\n",
    "\n",
    "Mögliche Lösung:\n",
    "\n",
    "![](resources/02-03_modellierung/revEng-bsp.svg)\n",
    "\n",
    "\n",
    "1. \n",
    "    + Bausteine:1 Entitytyp, 1 Relationshiptyp\n",
    "    + Anzahl Relationen: 2\n",
    "\n",
    "\n",
    "2. \n",
    "    + Bausteine: 1 Aggregation, 1 Schwacher Entitytyp, 3 Entitytypen, 3 Relationshiptypen\n",
    "    + Anzahl Relationen: 7\n",
    "\n",
    "\n",
    "3. \n",
    "    + Bausteine: 1 Generalisierung / 6 Spezialisierungen, 1 Relationshiptyp, 1 weiterer Entitytyp (außerhalb Gen/Spez)\n",
    "    + Anzahl Relationen: 13\n",
    "\n",
    "\n",
    "4. \n",
    "    + Bausteine: 1 Generalisierung / 6 Spezialisierungen, 1 Relationshiptyp, 1 weiterer Entitytyp (außerhalb Gen/Spez)\n",
    "    + Anzahl Relationen: 8"
   ]
  },
  {
   "cell_type": "markdown",
   "metadata": {
    "collapsed": true
   },
   "source": [
    "## Kinogruppe - Relationales Modell\n",
    "\n",
    "Überführen Sie das folgende (E)E/R-Modell von letzter Woche in ein relationales Modell."
   ]
  },
  {
   "cell_type": "markdown",
   "metadata": {},
   "source": [
    "![EE/R-Modell](resources/02-03_modellierung/Diagram.png)"
   ]
  },
  {
   "cell_type": "markdown",
   "metadata": {},
   "source": [
    "## Aufgabe: Bahnhofsdatenbank"
   ]
  },
  {
   "cell_type": "markdown",
   "metadata": {},
   "source": [
    "Gegeben sei das folgende Entity-Relationship-Diagramm für eine Bahnhofsdatenbank:\n",
    "\n",
    "![](resources/02-03_modellierung/bahnhof-diag-vorlage.svg)\n",
    "\n",
    "1. Vervollständigen Sie das gegebene ER-Diagramm zu einem syntaktisch korrekten ER-Diagramm.\n",
    "\n",
    "\n",
    "2. Ergänzen Sie das gegebene ER-Diagramm um die folgenden Angaben. Achten Sie dabei auchauf mögliche Integritätsbedingungen.\n",
    "    1. Jeder Bahnhof kann mit beliebig vielen Bahnhöfen verbunden sein. Jede solche Verbindungverfügt über eine Liniennummer.\n",
    "    2. Jedes Gleis muss einem Bahnhof zugeordnet sein.\n",
    "\n",
    "\n",
    "3. Gegeben sei außerdem die folgende Relation. Erweitern Sie das ER-Diagramm aus Aufgabe 1 durch Verwendung eines Abstraktionskonzeptes zu einem erweiterten ER-Diagramm, das dem gegebenen relationalen Modell entspricht. Nutzen Sie die Informationen aus den gegebenen Relationen. Weitere Tupel als die angegebenen existieren nicht. Achten Sie dabei darauf, dass Ihre Modellierung nicht kapazitätserhöhend oder kapazitätsvermindernd ist.\n",
    "\n",
    "| ID     | lat   | lon   | Haltepunkt  | Fernbhf  | Regiobhf  | Bedarfshalt  | vpass  | Baecker  | {Parkplatz}     |\n",
    "|--------|-------|-------|-------------|----------|-----------|--------------|--------|----------|-----------------|\n",
    "| XDAR   | 56.15 | 10.2  | FALSE       | TRUE     | TRUE      | NULL         | 40     | 2        | {250}           |\n",
    "| WM     | 54.49 | 13.59 | FALSE       | TRUE     | FALSE     | NULL         | 10     | 0        | NULL            |\n",
    "| HM     | 52.29 | 8.93  | FALSE       | TRUE     | TRUE      | NULL         | 110    | 1        | {250, 65}       |\n",
    "| WKBR   | 53.15 | 12.1  | TRUE        | FALSE    | TRUE      | TRUE         | NULL   | NULL     | {5}             |\n",
    "| ADF    | 53.56 | 9.99  | TRUE        | TRUE     | TRUE      | FALSE        | 60     | 3        | {}              |\n",
    "| XOSJV  | 63.45 | 10.91 | FALSE       | FALSE    | TRUE      | NULL         | NULL   | NULL     | {200, 300, 50}  |\n",
    "| ZETN   | 59.44 | 24.74 | FALSE       | FALSE    | TRUE      | NULL         | NULL   | NULL     | {30, 60}        |\n",
    "| XDLV   | 55.36 | 10.59 | TRUE        | TRUE     | FALSE     | FALSE        | 180    | 0        | NULL            |"
   ]
  },
  {
   "cell_type": "markdown",
   "metadata": {},
   "source": [
    "## Aufgabe: ERP-Software"
   ]
  },
  {
   "cell_type": "markdown",
   "metadata": {},
   "source": [
    "In der Abbildung sehen Sie ein mögliches EER-Typ-Diagramm für ein Informationssystem zur Verwaltung von Bestellungen.\n",
    "\n",
    "![](resources/02-03_modellierung/erp-diag.png)\n",
    "\n",
    "Das Diagramm entstand durch Analyse der folgenden Beschreibung:\n",
    "\n",
    "> A Department with an DeptID from within a Company requests an Order with an OrderNo and an OrderDate at a specific Date which is then received by a Reseller. A Reseller has a ResellerID and can be an Online-Shop, someone from eBay or something other. The Reseller must be owned by an owner, but there can be owner which currently don’t own a Reseller. The Order is finally received at a given Date by the Department. An Order consists of Shipping which has a Price and Positions which have an Amount. Every position has to be an Item with an ItemID, a Name and a Description. An Item is a Product with Dimensions, A Service with a Duration, or both.\n",
    "\n",
    "\n",
    "1. Führen Sie den logischen Entwurf in Richtung einer relationalen Datenbank durch, d.h. bilden Sie das EER-Typ-Diagramm in ein relationales Schema ab. \n",
    "2. Welche der im EER-Typ-Diagramm formulierten Integritätsbedingungen konnten in das relationale Schema übernommen werden, welche nicht?"
   ]
  },
  {
   "cell_type": "markdown",
   "metadata": {},
   "source": [
    "## Aufgabe: Reverse Engineering eines Shop-Systems"
   ]
  },
  {
   "cell_type": "markdown",
   "metadata": {},
   "source": [
    "Ein Informationsmodell wurde in entsprechende Tabellen einer relationalen Datenbank transformiert und mit den folgenden Instanzen gefüllt:\n",
    "\n",
    "#### Abteilung\n",
    "|<ins> Abteilungsname</ins> | AnzahlMitarbeiter |\n",
    "| --- | --- |\n",
    "| NullBock | 3 |\n",
    "| NixDa | 3 |\n",
    "\n",
    "#### Betreut\n",
    "| <ins>KundenNr</ins> | <ins>PersonalNr</ins> |\n",
    "|-----------|-----------|\n",
    "| 1         | 12        |\n",
    "| 1         | 15        |\n",
    "| 2         | 13        |\n",
    "| 3         | 14        |\n",
    "| 4         | 12        |\n",
    "\n",
    "#### Kunde\n",
    "| <ins>KundenNr</ins> | Name   |\n",
    "|-----------|--------|\n",
    "| 1         | Hugo   |\n",
    "| 2         | Egon   |\n",
    "| 3         | Walter |\n",
    "\n",
    "#### Produkt\n",
    "| <ins>ProduktNr</ins> | VK-Preis | H-Preis | Bezeichnung | Abteilung |\n",
    "|-------------|----------|---------|-------------|-----------|\n",
    "| 88          | 200      | 12      | Bratpfane   | NullBock  |\n",
    "| 99          | 20       | 1       | Schnuller   | NixDa     |\n",
    "| 100         | 2000     | 200     | Schuhe      | NixDa     |\n",
    "\n",
    "#### Angestellter\n",
    "| <ins>PersonalNr</ins> | Name     | Vorname | Gehalt | Abteilung | hProWoche |\n",
    "|----------|----------|---------|--------|-----------|-----------|\n",
    "| 12       | Simpson  | Homer   | 1300   | NullBock  | 38        |\n",
    "| 13       | Flanders | Ned     | 2700   | NixDa     | 40        |\n",
    "| 14       | Cartman  | Eric    | 1400   | NullBock  | 20        |\n",
    "| 15       | Bouvier  | Selma   | 2500   | NixDa     | 20        |\n",
    "| 17       | Simpson  | Bart    | 2150   | NullBock  | 10        |\n",
    "| 22       | Regret   | Regit   | 1750   | NixDa     | 40        |\n",
    "\n",
    "#### Bestellt\n",
    "| <ins>KundenNr</ins> | <ins>ProduktNr</ins> | Anzahl | Gesamtpreis |\n",
    "|-----------|------------|--------|-------------|\n",
    "| 1         | 88         | 200    | 40000       |\n",
    "| 1         | 99         | 1000   | 20000       |\n",
    "| 2         | 99         | 10     | 200         |\n",
    "| 3         | 99         | 20     | 400         |\n",
    "\n",
    "1. Rekonstruktion eines EER-Diagramms, d.h. ’Reverse Engineering’ eines Modells: Rekonstruieren Sie aus den o.g. Tabellen das zugrundeliegende EER-Diagramm und die erkennbaren (plausiblen) Integritätsbedingungen (Kardinalität, Totalität).\n",
    "\n",
    "2. Erweitern Sie das in 1) aufgestellte EER-Modell um die folgenden Anforderungen und ergänzen Sie dabei alle notwendigen Modellierungskonstrukte im Diagramm:\n",
    "\n",
    "    1. Kunden können Privat- oder Firmenkunden sein, bei Firmenkunden wird vermerkt, ob es sich um kleine, mittelständische oder große Unternehmen handelt. Privatkunden bekommen allerdings bei jedem Einkauf Sammelpunkte.\n",
    "    2. Alle Angestellten haben einen Vorgesetzten, der selbstverständlich auch in der Firma angestellt ist.\n",
    "    3. Die Produkte werden in Regalen, die in unterschiedlichen Hallen aufgestellt sind, gelagert. Alle Hallen haben eine eindeutige Bezeichnung wie „HM“ oder „HA“, ebenso Regale innerhalb einer Halle haben eine eindeutige Nummer.\n",
    "    4. Die Produkte lagern in ein- oder mehrstöckige Hallen, bei mehrstöckigen Hallen wird zusätzlich noch die Anzahl der Stockwerke gespeichert."
   ]
  },
  {
   "cell_type": "markdown",
   "metadata": {},
   "source": [
    "## Aufgabe: Personaldatenbank"
   ]
  },
  {
   "cell_type": "markdown",
   "metadata": {},
   "source": [
    "Gegeben sei das folgende EER-Diagramm:\n",
    "    \n",
    "![](resources/02-03_modellierung/persdb_diagram.png)\n",
    "\n",
    "Führen Sie den logischen Entwurf in Richtung einer relationalen Datenbank für das gezeigte EER-Diagramm durch. Legen Sie dabei Relationen nach Möglichkeit zusammen."
   ]
  },
  {
   "cell_type": "markdown",
   "metadata": {},
   "source": [
    "### Funktionale Abhängigkeiten\n",
    "1. Welche Funktionale Abhängigkeiten gelten in diesem Beispiel?\n",
    "\n",
    "\n",
    "2. Welches Attribut ist der Schlüssel?\n",
    "\n",
    "\n",
    "3. Gelten diese Funktionalen Abhängigkeiten immer?\n",
    "\n",
    "| Typ | Farbe | Material | Anzahl |\n",
    "|---|---|---|---|\n",
    "| Hut | Schwarz | Baumwolle | 7 |\n",
    "| Mantel | Schwarz | Leder | 2 |\n",
    "| Hose | Blau | Polyester | 10 |\n",
    "| Schal | Blau | Baumwolle | 24 |\n",
    "\n",
    "<!--![](resources/02-03_modellierung/TUT03_FDs.png)-->"
   ]
  },
  {
   "cell_type": "markdown",
   "metadata": {},
   "source": [
    "## Aufgabe: Armstrong-Axiome\n",
    "Leite aus den gegebenen Funktionalen Abhängigkeiten weitere FDs mit Hilfe der Armstrong-Axiome ab.\n",
    "R(A,B,C,D,E,F,G)  \n",
    "\n",
    "+ A → B  \n",
    "+ B → D  \n",
    "+ (B, D) → C    \n",
    "+ F → E,F  \n",
    "+ (A, F) → G  \n",
    "+ G → A,B,C,D,E,F  \n"
   ]
  },
  {
   "cell_type": "markdown",
   "metadata": {},
   "source": [
    "### Schlüssel\n",
    "1. Gib 3 Superschlüssel für die Relation aus der vorherigen Aufgabe an.\n",
    "\n",
    "\n",
    "2. Sind alle der gefundenen Superschlüssel auch Schlüsselkandidaten? Begründe deine Entscheidung und gebe alle möglichen Superschlüssel an.\n",
    "\n",
    "\n",
    "3. Was sind mögliche Primärschlüssel und welcher ist am besten? Warum?"
   ]
  },
  {
   "cell_type": "markdown",
   "metadata": {
    "collapsed": true
   },
   "source": [
    "## Aufgabe: Funktionale Abhängigkeiten"
   ]
  },
  {
   "cell_type": "markdown",
   "metadata": {},
   "source": [
    "Gegeben sei das Relationenschema S(W,X,Y,Z), wobei alle Attribute atomar und vom Typ CHAR sind.\n",
    "\n",
    "1. Betrachten Sie folgende funktionale Abhängigkeiten: W → X und XY → W. Geben Sie eine möglichst kleine Instanz der Relation S an, die beide funktionale Abhängigkeiten gleichzeitig **verletzt**. Markieren Sie die verletzenden Tupel entsprechend.\n",
    "2. Zeigen Sie mit einer möglichst kleinen Instanz der Relation S, dass die folgende Regel nicht gilt: Wenn WX → Y, dann W → Y oder X → Y. Markieren Sie die verletzenden Tupel entsprechend."
   ]
  },
  {
   "cell_type": "markdown",
   "metadata": {},
   "source": [
    "## Aufgabe: Normalisierung"
   ]
  },
  {
   "cell_type": "markdown",
   "metadata": {},
   "source": [
    "Gegeben sei die folgende Relation:\n",
    "Beamter (<ins>PersonalKennziffer, Tel-Nr., Name)\n",
    "\n",
    "Dabei gelten die folgenden funktionalen Abhängigkeiten:\n",
    "+ PersonalKennziffer → Tel-Nr.\n",
    "+ PersonalKennziffer → Name\n",
    "+ Tel-Nr. → Name\n",
    "\n",
    "Die Relation soll nun normalisiert werden. Der Datenbank-Designer denkt dabei über verschiedene Alternativen der Zerlegung nach:\n",
    "\n",
    "1. Erreichbar(<ins>PersonalKennziffer</ins>, Tel-Nr.) und Beamter(<ins>PersonalKennziffer</ins>, Name)\n",
    "2. Erreichbar(<ins>PersonalKennziffer</ins>, Tel-Nr.) und Beamter(<ins>Tel-Nr.</ins>, Name)\n",
    "3. Erreichbar(<ins>PersonalKennziffer</ins>, Name) und Beamter(<ins>Tel-Nr.</ins>, Name)\n",
    "\n",
    "Begründen Sie, in welcher Normalform die Ausgangsrelation und die Relationen in a) bis c) jeweils stehen. Welche der gezeigten Zerlegungsalternativen würden Sie wählen und warum? Gehen Sie bei der Begründung insbesondere auf Eigenschaften der Zerlegung ein: Verlustfreiheit und Abhängigkeitserhaltung.\n"
   ]
  },
  {
   "cell_type": "markdown",
   "metadata": {},
   "source": [
    "## Aufgabe: Normalisierung"
   ]
  },
  {
   "cell_type": "markdown",
   "metadata": {},
   "source": [
    "Gegeben sind die Relationen:\n",
    "+ R1 (A, B, C, D, E)\n",
    "+ R2 (A, C, F)\n",
    "\n",
    "Und die funktionalen Abhängigkeiten:\n",
    "+ F = {A → BE, A → D, F → A, AC → F, BC → E, C → A}\n",
    "\n",
    "Alle Attribute sind atomar.\n",
    "1. Bestimmen Sie alle Schlüsselkandidaten.\n",
    "2. In welcher Normalform befinden sich die Relationen? Begründen Sie Ihre Antwort.\n",
    "3. Überführen Sie die Relationen in die dritte Normalform und geben Sie die Schlüsselkandidaten an. Erzeugen Sie dabei keine unnötigen Relationen.\n",
    "4. Sind die resultierenden Relationen in BCNF? Ist dies nicht der Fall, überführen Sie sie in BCNF. Erzeugen Sie dabei keine unnötigen Relationen."
   ]
  },
  {
   "cell_type": "markdown",
   "metadata": {},
   "source": [
    "## Aufgabe: Schlüssel und Normalformen"
   ]
  },
  {
   "cell_type": "markdown",
   "metadata": {},
   "source": [
    "Gegeben sei die Relation S(B,C,D,E) mit den atomaren Attributen B, C, D und E . Es\n",
    "gelten folgende und nur folgende funktionale Abhängigkeiten:\n",
    "\n",
    "+ (B,C) → D\n",
    "+  D → B\n",
    "+  D → E\n",
    "\n",
    "\n",
    "Überprüfen und begründen Sie die folgenden Aussagen:\n",
    "\n",
    "1. D ist der Primärschlüssel für diese Relation.\n",
    "2. (B,C) ist ein Schlüsselkandidat (für einen Primärschlüssel!).\n",
    "3. D ist ein Fremdschlüssel, weil er auf B verweist.\n",
    "4. S ist in der 1. NF (1. Normalform)\n",
    "5. Welche Abhängigkeiten müssten gelten (ein Beispiel!), wenn diese Relation nicht der 2. NF genügen soll.\n",
    "6. Die Relation S befindet sich in der 3. NF.\n",
    "7. S genügt der BCNF.\n",
    "8. Falls S bestimmte Normalformen (1, 2, 3, BCNF) nicht erfüllt, führen Sie den / die entsprechenden Normalisierungsschritt(e) durch!"
   ]
  },
  {
   "cell_type": "markdown",
   "metadata": {},
   "source": [
    "## Aufgabe: Normalisierung"
   ]
  },
  {
   "cell_type": "markdown",
   "metadata": {},
   "source": [
    "Gegeben sei die folgende Ausgangsrelation:\n",
    "\n",
    "#### Lieferant\n",
    "\n",
    "<table>\n",
    "    <thead>\n",
    "<tr>\n",
    "<th rowspan=\"2\">LieferantNr</th>\n",
    "<th rowspan=\"2\">Ort</th>\n",
    "<th rowspan=\"2\">Entf(km)</th>\n",
    "<th colspan=\"4\">Lieferung</th>\n",
    "</tr>\n",
    "\n",
    "<tr>\n",
    "<th>BteilNr</th>\n",
    "<th>BteilBez</th>\n",
    "<th>Anzahl</th>\n",
    "<th>Bearbeiter</th>\n",
    "</tr>\n",
    "    </thead>\n",
    "    <tbody>\n",
    "<tr>\n",
    "<td rowspan=\"3\">L1</td>\n",
    "<td rowspan=\"3\">London</td>\n",
    "<td rowspan=\"3\">600</td>\n",
    "<td>T1</td>\n",
    "<td>Schrauben</td>\n",
    "<td>100</td>\n",
    "<td>Meier</td>\n",
    "</tr>\n",
    "<tr>\n",
    "<td>T2</td>\n",
    "<td>Zangen</td>\n",
    "<td>200</td>\n",
    "<td>Müller</td>\n",
    "</tr>\n",
    "<tr>\n",
    "<td>T3</td>\n",
    "<td>Hammer</td>\n",
    "<td>50</td>\n",
    "<td>Oheim</td>\n",
    "</tr>\n",
    "<tr>\n",
    "<td rowspan=\"2\">L2</td>\n",
    "<td rowspan=\"2\">Paris</td>\n",
    "<td rowspan=\"2\">1000</td>\n",
    "<td>T1</td>\n",
    "<td>Schrauben</td>\n",
    "<td>200</td>\n",
    "<td>Meier</td>\n",
    "</tr>\n",
    "<tr>\n",
    "<td>T4</td>\n",
    "<td>Muttern</td>\n",
    "<td>500</td>\n",
    "<td>Schmidt</td>\n",
    "</tr>\n",
    "<tr>\n",
    "<td>L3</td>\n",
    "<td>London</td>\n",
    "<td>600</td>\n",
    "<td>T4</td>\n",
    "<td>Muttern</td>\n",
    "<td>1000</td>\n",
    "<td>Busse</td>\n",
    "</tr>\n",
    "<tr>\n",
    "<td>L4</td>\n",
    "<td>Stockholm</td>\n",
    "<td>600</td>\n",
    "<td>T5</td>\n",
    "<td>Muttern</td>\n",
    "<td>800</td>\n",
    "<td>Leicher</td>\n",
    "</tr>\n",
    "    </tbody>\n",
    "</table>\n",
    "\n",
    "+ Normalisieren Sie die Relationen bis zur BCNF\n",
    "+ Protokollieren Sie dabei funktionalen Abhängigkeiten, die zu einer Zerlegung der Tabellen geführt haben"
   ]
  },
  {
   "cell_type": "markdown",
   "metadata": {},
   "source": [
    "## Aufgabe: Normalisierung"
   ]
  },
  {
   "cell_type": "markdown",
   "metadata": {},
   "source": [
    "Gegeben sei die folgende Ausgangsrelation:\n",
    "\n",
    "\n",
    "#### Regatta\n",
    "\n",
    "<table class=\"tableizer-table\">\n",
    "<thead><tr class=\"tableizer-firstrow\"><th rowspan=\"2\">Bootsname</th><th rowspan=\"2\">Segelfläche</th><th rowspan=\"2\">Besatzung</th><th colspan=\"4\">Regatta (Wettfahrt)</th></tr>\n",
    " <tr><th>Name</th><th>Start</th><th>Ziel</th><th>Länge</th></tr></thead><tbody>\n",
    " <tr><td>Marie</td><td>30</td><td>4</td><td>Havelpokal</td><td>Potsdam</td><td>Spandau</td><td>25</td></tr>\n",
    " <tr><td>Marie</td><td>30</td><td>3</td><td>Ostseem.</td><td>Rostock</td><td>Bornholm</td><td>200</td></tr>\n",
    " <tr><td>Grünspan</td><td>10</td><td>2</td><td>Havelpokal</td><td>Potsdam</td><td>Spandau</td><td>25</td></tr>\n",
    " <tr><td>Grünspan</td><td>10</td><td>3</td><td>Spreepokal</td><td>Teltow</td><td>Wannsee</td><td>25</td></tr>\n",
    " <tr><td>Knatter</td><td>8</td><td>3</td><td>Havelm.</td><td>Wannsee</td><td>Spandau</td><td>10</td></tr>\n",
    " <tr><td>Knatter</td><td>8</td><td>3</td><td>Wannseem.</td><td>Wannsee</td><td>Wannsee</td><td>3</td></tr>\n",
    "</tbody></table>\n",
    "\n",
    "+ Normalisieren Sie die Relationen bis zur BCNF\n",
    "+ Protokollieren Sie dabei funktionalen Abhängigkeiten, die zu einer Zerlegung der Tabellen geführt haben"
   ]
  },
  {
   "cell_type": "markdown",
   "metadata": {},
   "source": [
    "## Aufgabe: Normalisierung"
   ]
  },
  {
   "cell_type": "markdown",
   "metadata": {},
   "source": [
    "Gegeben sei die folgende Ausgangsrelation:\n",
    "\n",
    "#### Prüfungsanmeldungen\n",
    "\n",
    "\n",
    "<table>\n",
    "<thead><th>MatNr</th><th>Name</th><th>Vorname</th><th>Geb</th><th>FBNr</th><th>FBName</th><th>PNr</th><th>Fach</th><th>Prüfer</th><th>Termin</th><th>Note</th></tr></thead><tbody>\n",
    " <tr><td rowspan=\"4\">150001</td><td rowspan=\"4\">Huber</td><td rowspan=\"4\">Hans</td><td rowspan=\"4\">10160</td><td rowspan=\"4\">13</td><td rowspan=\"4\">Informatik</td><td>1</td><td>InfoA</td><td>Pepper</td><td>21/05/94</td><td>2,7</td></tr>\n",
    " <tr> <td>2</td><td>TEGI</td><td>Ehrig</td><td>18/07/94</td><td>1,7</td></tr>\n",
    " <tr> <td>3</td><td>PDV</td><td>Hommel</td><td>22/07/94</td><td>3</td></tr>\n",
    " <tr> <td>6</td><td>DBS</td><td>Oheim</td><td>15/07/94</td><td>1,3</td></tr>\n",
    " <tr><td rowspan=\"2\">150002</td><td rowspan=\"2\">Meier</td><td rowspan=\"2\">Mirko</td><td rowspan=\"2\">30363</td><td rowspan=\"2\">4</td><td rowspan=\"2\">Mathematik</td><td>5</td><td>GIM</td><td>Classen</td><td>15/07/94</td><td>1,7</td></tr>\n",
    " <tr> <td>6</td><td>DBS</td><td>Weber</td><td>27/07/94</td><td>2</td></tr>\n",
    " <tr><td rowspan=\"2\">150003</td><td rowspan=\"2\">Bauer</td><td rowspan=\"2\">Bertram</td><td rowspan=\"2\">130562</td><td rowspan=\"2\">13</td><td rowspan=\"2\">Informatik</td><td>5</td><td>GIM</td><td>Classen</td><td>15/07/94</td><td>1,7</td></tr>\n",
    " <tr> <td>3</td><td>PDV</td><td>Hommel</td><td>22/07/94</td><td>3</td></tr>\n",
    " <tr><td rowspan=\"2\">150004</td><td rowspan=\"2\">Paulsen</td><td rowspan=\"2\">Peter</td><td rowspan=\"2\">50967</td><td rowspan=\"2\">4</td><td rowspan=\"2\">Mathematik</td><td>1</td><td>InfoA</td><td>Pepper</td><td>21/05/94</td><td>2,7</td></tr>\n",
    " <tr> <td>3</td><td>PDV</td><td>Hommel</td><td>22/07/94</td><td>3</td></tr>\n",
    " <tr><td rowspan=\"2\">150005</td><td rowspan=\"2\">Wichtig</td><td rowspan=\"2\">Wolfram</td><td rowspan=\"2\">130169</td><td rowspan=\"2\">14</td><td rowspan=\"2\">BWL</td><td>5</td><td>GIM</td><td>Weber</td><td>27/07/94</td><td>2</td></tr>\n",
    " <tr> <td>6</td><td>DBS</td><td>Oheim</td><td>15/07/94</td><td>1,3</td></tr>\n",
    " <tr><td rowspan=\"2\">150006</td><td rowspan=\"2\">Gans</td><td rowspan=\"2\">Gertrud</td><td rowspan=\"2\">250465</td><td rowspan=\"2\">13</td><td rowspan=\"2\">Informatik</td><td>1</td><td>InfoA</td><td>Pepper</td><td>21/05/94</td><td>2,7</td></tr>\n",
    " <tr> <td>2</td><td>TEGI</td><td>Ehrig</td><td>18/07/94</td><td>1,7</td></tr>\n",
    " <tr><td>150007</td><td>Federick</td><td>Fersen</td><td>120165</td><td>13</td><td>Informatik</td><td>&nbsp;</td><td>&nbsp;</td><td>&nbsp;</td><td>&nbsp;</td><td></td></tr>\n",
    "</tbody></table>\n",
    "\n",
    "+ Normalisieren Sie die Relationen bis zur BCNF\n",
    "+ Protokollieren Sie dabei funktionalen Abhängigkeiten, die zu einer Zerlegung der Tabellen geführt haben"
   ]
  }
 ],
 "metadata": {
  "kernelspec": {
   "display_name": "Python 3",
   "language": "python",
   "name": "python3"
  },
  "language_info": {
   "codemirror_mode": {
    "name": "ipython",
    "version": 3
   },
   "file_extension": ".py",
   "mimetype": "text/x-python",
   "name": "python",
   "nbconvert_exporter": "python",
   "pygments_lexer": "ipython3",
   "version": "3.7.6"
  }
 },
 "nbformat": 4,
 "nbformat_minor": 2
}
