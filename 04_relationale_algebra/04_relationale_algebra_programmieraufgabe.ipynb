{
 "cells": [
  {
   "cell_type": "markdown",
   "metadata": {},
   "source": [
    "# Übungsprogrammieraufgabe: Operatoren der Relationalen Algebra implementieren"
   ]
  },
  {
   "cell_type": "markdown",
   "metadata": {},
   "source": [
    "Im folgenden sollen die Operatoren der relationalen Algebra für pandas Dataframes implementiert werden.\n",
    "\n",
    "Gehe hierbei davon aus, dass die Spalten der Dataframes benannt sind und ignoriert den Index der DataFrames.\n",
    "\n",
    "In diesem ersten Snippet wird eine Funtion definiert, mit der du deine Lösungen später testen kannst. Du musst es dir nicht im Detail ansehen, sondern nur einmal ausführen."
   ]
  },
  {
   "cell_type": "code",
   "execution_count": null,
   "metadata": {},
   "outputs": [],
   "source": [
    "import pandas as pd\n",
    "from pandas import DataFrame\n",
    "from typing import *\n",
    "from io import StringIO\n",
    "import numpy as np\n",
    "\n",
    "df = DataFrame([\n",
    "     (11, 22, 34, 23),\n",
    "     (11, 22, 31, 11),\n",
    "     (13, 42, 16, 21),\n",
    "     (55, 32, 71, 22),\n",
    "     (66, 33, 19, 27),\n",
    "     (13, 42, 31, 11)\n",
    "     ], columns=list('abyz'))\n",
    "\n",
    "df2 = DataFrame([\n",
    "     (11, 22),\n",
    "     (13, 42)\n",
    "     ], columns=list('ab'))\n",
    "\n",
    "df3 = DataFrame([\n",
    "     (11, 22, 34, 23),\n",
    "     (15, 22, 41, 11),\n",
    "     (13, 42, 16, 21),\n",
    "     (55, 32, 71, 22),\n",
    "     (66, 34, 19, 27)\n",
    "     ], columns=list('abyz'))\n",
    "\n",
    "test = [('select(\"y > 30 and z <= 20\", df)',\n",
    "  'a,b,y,z\\r\\n11,22,31,11\\r\\n13,42,31,11\\r\\n'),\n",
    " ('project([\"z\", \"y\"], df)',\n",
    "  'z,y\\r\\n23,34\\r\\n11,31\\r\\n21,16\\r\\n22,71\\r\\n27,19\\r\\n11,31\\r\\n'),\n",
    " ('rename([\"a\", \"b\", \"c\", \"d\"], df)',\n",
    "  'a,b,c,d\\r\\n'\n",
    "  '11,22,34,23\\r\\n'\n",
    "  '11,22,31,11\\r\\n'\n",
    "  '13,42,16,21\\r\\n'\n",
    "  '55,32,71,22\\r\\n'\n",
    "  '66,33,19,27\\r\\n'\n",
    "  '13,42,31,11\\r\\n'),\n",
    " ('cross(df, df2)',\n",
    "  'L_a,L_b,y,z,R_a,R_b\\r\\n'\n",
    "  '11,22,34,23,11,22\\r\\n'\n",
    "  '11,22,34,23,13,42\\r\\n'\n",
    "  '11,22,31,11,11,22\\r\\n'\n",
    "  '11,22,31,11,13,42\\r\\n'\n",
    "  '13,42,16,21,11,22\\r\\n'\n",
    "  '13,42,16,21,13,42\\r\\n'\n",
    "  '55,32,71,22,11,22\\r\\n'\n",
    "  '55,32,71,22,13,42\\r\\n'\n",
    "  '66,33,19,27,11,22\\r\\n'\n",
    "  '66,33,19,27,13,42\\r\\n'\n",
    "  '13,42,31,11,11,22\\r\\n'\n",
    "  '13,42,31,11,13,42\\r\\n'),\n",
    " ('union(df, df3)',\n",
    "  'a,b,y,z\\r\\n'\n",
    "  '11,22,34,23\\r\\n'\n",
    "  '11,22,31,11\\r\\n'\n",
    "  '13,42,16,21\\r\\n'\n",
    "  '55,32,71,22\\r\\n'\n",
    "  '66,33,19,27\\r\\n'\n",
    "  '13,42,31,11\\r\\n'\n",
    "  '11,22,34,23\\r\\n'\n",
    "  '15,22,41,11\\r\\n'\n",
    "  '13,42,16,21\\r\\n'\n",
    "  '55,32,71,22\\r\\n'\n",
    "  '66,34,19,27\\r\\n'),\n",
    " ('minus(df, df3)', 'a,b,y,z\\r\\n11,22,31,11\\r\\n66,33,19,27\\r\\n13,42,31,11\\r\\n'),\n",
    " ('intersect(df, df3)',\n",
    "  'a,b,y,z\\r\\n'\n",
    "  '11,22,34,23\\r\\n'\n",
    "  '11,22,31,11\\r\\n'\n",
    "  '13,42,16,21\\r\\n'\n",
    "  '55,32,71,22\\r\\n'\n",
    "  '66,33,19,27\\r\\n'\n",
    "  '13,42,31,11\\r\\n'),\n",
    " ('join(df, df2)',\n",
    "  'a,b,y,z\\r\\n11,22,34,23\\r\\n11,22,31,11\\r\\n13,42,16,21\\r\\n13,42,31,11\\r\\n'),\n",
    " ('join(df, df2, theta=\"z == R_b\")',\n",
    "  'L_a,L_b,y,z,R_a,R_b\\r\\n55,32,71,22,11,22\\r\\n'),\n",
    " ('divide(df, df2)', 'y,z\\r\\n31,11\\r\\n')]\n",
    "\n",
    "def validate(i):    \n",
    "    query, solution = test[i]\n",
    "    print(f'test {i}: {query}')\n",
    "    expected = pd.read_csv(StringIO(solution)).reset_index(drop=True)\n",
    "    actual = eval(query).reset_index(drop=True)\n",
    "    try:\n",
    "        pd.testing.assert_frame_equal(expected, actual)\n",
    "        print('OK')\n",
    "    except:\n",
    "        print('expected')\n",
    "        print(expected)\n",
    "        print('actual')\n",
    "        print(actual)\n",
    "        raise\n",
    "    \n"
   ]
  },
  {
   "cell_type": "markdown",
   "metadata": {},
   "source": [
    "## 1. Basisoperatoren"
   ]
  },
  {
   "cell_type": "markdown",
   "metadata": {},
   "source": [
    "### 1.1 $\\sigma$ (Sigma) wie Selektion"
   ]
  },
  {
   "cell_type": "markdown",
   "metadata": {},
   "source": [
    "*Hinweis:* Der Prädikatstring ist ein beliebiger boolescher Ausdruck über die Attribute einer Entity. Du kannst die Funktion `eval` benutzen um diesen String auszuwerten. Benutze das optionale Argument `locals` um die Werte der Variablen des Ausdrucks zu übergeben. Zum Beispiel:"
   ]
  },
  {
   "cell_type": "code",
   "execution_count": null,
   "metadata": {},
   "outputs": [],
   "source": [
    "eval('a < 10', {'a':3})"
   ]
  },
  {
   "cell_type": "code",
   "execution_count": null,
   "metadata": {},
   "outputs": [],
   "source": [
    "def select(predicate:str, relation:DataFrame) -> DataFrame:\n",
    "    #TODO: implement\n",
    "    return relation"
   ]
  },
  {
   "cell_type": "code",
   "execution_count": null,
   "metadata": {},
   "outputs": [],
   "source": [
    "validate(0)"
   ]
  },
  {
   "cell_type": "markdown",
   "metadata": {},
   "source": [
    "### 1.2 $\\pi$ (Pi) wie Projektion"
   ]
  },
  {
   "cell_type": "code",
   "execution_count": null,
   "metadata": {},
   "outputs": [],
   "source": [
    "def project(attributes:List[str], relation:DataFrame) -> DataFrame:\n",
    "    #TODO: implement\n",
    "    return relation"
   ]
  },
  {
   "cell_type": "code",
   "execution_count": null,
   "metadata": {},
   "outputs": [],
   "source": [
    "validate(1)"
   ]
  },
  {
   "cell_type": "markdown",
   "metadata": {},
   "source": [
    "### 1.3 $\\rho$ (Rho) wie rename (umbenennen)"
   ]
  },
  {
   "cell_type": "code",
   "execution_count": null,
   "metadata": {},
   "outputs": [],
   "source": [
    "def rename(new_attribute_names:List[str], relation:DataFrame) -> DataFrame:\n",
    "    #TODO: implement\n",
    "    return relation"
   ]
  },
  {
   "cell_type": "code",
   "execution_count": null,
   "metadata": {},
   "outputs": [],
   "source": [
    "validate(2)"
   ]
  },
  {
   "cell_type": "markdown",
   "metadata": {},
   "source": [
    "### 1.4 $\\times$ Kreuzprodukt"
   ]
  },
  {
   "cell_type": "code",
   "execution_count": null,
   "metadata": {},
   "outputs": [],
   "source": [
    "def cross(left:DataFrame, right:DataFrame) -> DataFrame:\n",
    "    #TODO: implement\n",
    "    return relation"
   ]
  },
  {
   "cell_type": "code",
   "execution_count": null,
   "metadata": {},
   "outputs": [],
   "source": [
    "validate(3)"
   ]
  },
  {
   "cell_type": "markdown",
   "metadata": {},
   "source": [
    "### 1.5 $\\cup$ Vereinigung"
   ]
  },
  {
   "cell_type": "code",
   "execution_count": null,
   "metadata": {},
   "outputs": [],
   "source": [
    "def union(left:DataFrame, right:DataFrame) -> DataFrame:\n",
    "    #TODO: implement\n",
    "    return relation"
   ]
  },
  {
   "cell_type": "code",
   "execution_count": null,
   "metadata": {},
   "outputs": [],
   "source": [
    "validate(4)"
   ]
  },
  {
   "cell_type": "markdown",
   "metadata": {},
   "source": [
    "### 1.6 $-$ Differenz"
   ]
  },
  {
   "cell_type": "code",
   "execution_count": null,
   "metadata": {},
   "outputs": [],
   "source": [
    "def minus(left:DataFrame, right:DataFrame) -> DataFrame:\n",
    "    #TODO: implement\n",
    "    return relation"
   ]
  },
  {
   "cell_type": "code",
   "execution_count": null,
   "metadata": {},
   "outputs": [],
   "source": [
    "validate(5)"
   ]
  },
  {
   "cell_type": "markdown",
   "metadata": {},
   "source": [
    "## 2. Abgeleitete Operatoren\n",
    "\n",
    "*Hinweis:* Die abgeleiteten Operatoren heißen so, weil man sie von den Basisoperatoren ableiten kann."
   ]
  },
  {
   "cell_type": "markdown",
   "metadata": {},
   "source": [
    "### 2.1 $\\cap$ Schnitt"
   ]
  },
  {
   "cell_type": "code",
   "execution_count": null,
   "metadata": {},
   "outputs": [],
   "source": [
    "def intersect(left:DataFrame, right:DataFrame) -> DataFrame:\n",
    "    #TODO: implement\n",
    "    return left"
   ]
  },
  {
   "cell_type": "code",
   "execution_count": null,
   "metadata": {},
   "outputs": [],
   "source": [
    "validate(6)"
   ]
  },
  {
   "cell_type": "markdown",
   "metadata": {},
   "source": [
    "### 2.2 $\\bowtie$ Natural Join, $\\bowtie_{\\theta}$ Theta Join\n",
    "Wenn das optionale Argument `theta` leer ist, soll ein natural join durchgeführt werden."
   ]
  },
  {
   "cell_type": "code",
   "execution_count": null,
   "metadata": {},
   "outputs": [],
   "source": [
    "def join(left:DataFrame, right:DataFrame, theta:str='', outer:bool=False) -> DataFrame:\n",
    "    #TODO: implement\n",
    "    return left"
   ]
  },
  {
   "cell_type": "code",
   "execution_count": null,
   "metadata": {},
   "outputs": [],
   "source": [
    "validate(7)\n",
    "validate(8)"
   ]
  },
  {
   "cell_type": "markdown",
   "metadata": {},
   "source": [
    "### 2.3 $/$ Division"
   ]
  },
  {
   "cell_type": "code",
   "execution_count": null,
   "metadata": {},
   "outputs": [],
   "source": [
    "def divide(left:DataFrame, right:DataFrame) -> DataFrame:\n",
    "    #TODO: implement\n",
    "    return left"
   ]
  },
  {
   "cell_type": "code",
   "execution_count": null,
   "metadata": {},
   "outputs": [],
   "source": [
    "validate(9)"
   ]
  },
  {
   "cell_type": "markdown",
   "metadata": {},
   "source": [
    "## VV Bei Bedarf: Alle Tests ausführen VV"
   ]
  },
  {
   "cell_type": "code",
   "execution_count": null,
   "metadata": {},
   "outputs": [],
   "source": [
    "# Alle Lösungen mittels implementierter Funktionen generieren:\n",
    "x = []\n",
    "divide(df, df2)\n",
    "for q, _ in test:\n",
    "    print(q)\n",
    "    x.append((q, eval(q).to_csv(index=False)))\n",
    "    \n",
    "from pprint import pprint\n",
    "pprint(x)\n",
    "\n",
    "# Alle Tests ausführen:\n",
    "for i in range(10):\n",
    "    validate(i)"
   ]
  },
  {
   "cell_type": "code",
   "execution_count": null,
   "metadata": {},
   "outputs": [],
   "source": []
  }
 ],
 "metadata": {
  "kernelspec": {
   "display_name": "Python 3",
   "language": "python",
   "name": "python3"
  },
  "language_info": {
   "codemirror_mode": {
    "name": "ipython",
    "version": 3
   },
   "file_extension": ".py",
   "mimetype": "text/x-python",
   "name": "python",
   "nbconvert_exporter": "python",
   "pygments_lexer": "ipython3"
  }
 },
 "nbformat": 4,
 "nbformat_minor": 2
}
