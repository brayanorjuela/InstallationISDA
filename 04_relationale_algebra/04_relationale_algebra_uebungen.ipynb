{
 "cells": [
  {
   "cell_type": "markdown",
   "metadata": {
    "pycharm": {
     "name": "#%% md\n"
    }
   },
   "source": [
    "<a id=\"start\"></a>\n",
    "## Übung 1: Bibliothek\n",
    "Eine Bibliothek speichert ihre vorhandenen Exemplare mithilfe einer lokalen Kennung.\n",
    "Zu jeder lokalen Kennung gehört eine ISBN, die für jedes Exemplar eindeutig identifiziert,\n",
    "um welches Buch es sich handelt. Zusätzlich speichert die Bibliothek ihre Nutzer und welche Bücher\n",
    "sie jeweils ausgeliehen haben. In den folgenden Aufgaben wollen wir typische Anfragen in\n",
    "Relationaler Algebra an diese Bibliotheksdatenbank stellen.\n"
   ]
  },
  {
   "cell_type": "markdown",
   "metadata": {},
   "source": [
    "#### ER-Diagramm\n",
    "\n",
    "![](../resources/04_relationale_algebra/bibliothek-schema.png)"
   ]
  },
  {
   "cell_type": "code",
   "execution_count": 1,
   "metadata": {
    "pycharm": {
     "name": "#%%\n"
    }
   },
   "outputs": [
    {
     "name": "stdout",
     "output_type": "stream",
     "text": [
      "   Bid Vorname\n",
      "0    1   Babsi\n",
      "1    2     Tad\n",
      "2    3     Odo\n",
      "3    4   Laila\n",
      "4    5     Pam\n",
      "   Bid Signatur\n",
      "0    1    KS345\n",
      "1    5    ST220\n",
      "2    1   JLb 12\n",
      "3    2    ST270\n",
      "4    5    ST270\n",
      "  Signatur     ISBN\n",
      "0    S2710  0-13-1X\n",
      "1    ST270  0-13-1X\n",
      "2   JLb 12  3-540-X\n",
      "3    ST220  0-544-X\n",
      "4    KS345   37020X\n",
      "      ISBN                           Titel Sprache\n",
      "0  0-13-1X                Database Systems      en\n",
      "1  3-540-X  Wein : verstehen und geniessen      de\n",
      "2  0-544-X  Big data : a revolution that …      en\n",
      "3   37020X       Bierbrauen fuer jedermann      de\n",
      "4   38266X     Data Warehouse Technologien      de\n"
     ]
    }
   ],
   "source": [
    "from reframe import Relation\n",
    "\n",
    "Benutzer = Relation('../resources/04_relationale_algebra/Benutzer.csv')\n",
    "Leiht_aus = Relation('../resources/04_relationale_algebra/Leiht_aus.csv')\n",
    "Exemplar = Relation('../resources/04_relationale_algebra/Exemplar.csv')\n",
    "Buch = Relation('../resources/04_relationale_algebra/Buch.csv')\n",
    "\n",
    "print(Benutzer)\n",
    "print(Leiht_aus)\n",
    "print(Exemplar)\n",
    "print(Buch)"
   ]
  },
  {
   "cell_type": "markdown",
   "metadata": {
    "pycharm": {
     "name": "#%% md\n"
    }
   },
   "source": [
    "1. Welche englischsprachigen Bücher (Titel) gibt es?"
   ]
  },
  {
   "cell_type": "code",
   "execution_count": null,
   "metadata": {
    "pycharm": {
     "name": "#%%\n"
    }
   },
   "outputs": [],
   "source": []
  },
  {
   "cell_type": "markdown",
   "metadata": {
    "pycharm": {
     "name": "#%% md\n"
    }
   },
   "source": [
    "2. Welche Benutzer haben noch nie ein Buch ausgeliehen?"
   ]
  },
  {
   "cell_type": "code",
   "execution_count": null,
   "metadata": {
    "pycharm": {
     "name": "#%%\n"
    }
   },
   "outputs": [],
   "source": []
  },
  {
   "cell_type": "markdown",
   "metadata": {},
   "source": [
    "3. Welche Benutzer (Vorname) haben ein Exemplar mit Buchtitel „Bierbrauen fuer jedermann“ ausgeliehen?"
   ]
  },
  {
   "cell_type": "code",
   "execution_count": null,
   "metadata": {
    "pycharm": {
     "name": "#%%\n"
    }
   },
   "outputs": [],
   "source": []
  },
  {
   "cell_type": "markdown",
   "metadata": {},
   "source": [
    "4. Alle Benutzer (Vorname), die mindestens zwei Exemplareausgeliehen haben."
   ]
  },
  {
   "cell_type": "code",
   "execution_count": null,
   "metadata": {
    "pycharm": {
     "name": "#%%\n"
    }
   },
   "outputs": [],
   "source": []
  },
  {
   "cell_type": "markdown",
   "metadata": {},
   "source": [
    "## Übung 2: Minimale und maximale Ausgabekardinalität von Operatoren\n",
    "\n",
    "* Gegeben seien zwei kompatible Relationen R(𝐵,𝐶) und S(𝐵,𝐶)\n",
    "* Die Relationen enthalten jeweils |R| und |S| Tupel\n",
    "* Welche Aussage können wir über |𝑆 ∪ 𝑇| treffen (Mengen)?\n",
    "    - Maximal?\n",
    "    - Minimal?\n",
    "* Welche Aussage können wir über |𝑆 ∪ 𝑇| treffen (Multimengen)?\n",
    "    - Maximum?\n",
    "    - Minimum?"
   ]
  },
  {
   "cell_type": "markdown",
   "metadata": {},
   "source": [
    "## Übung 3: Regatta-Informationssystem\n",
    "\n",
    "Formulieren Sie die folgenden textuellen Anfragen mit Hilfe der Relationen-Algebra."
   ]
  },
  {
   "cell_type": "markdown",
   "metadata": {},
   "source": [
    "#### ER-Diagramm\n",
    "\n",
    "![](../resources/04_relationale_algebra/regatta-schema.png)"
   ]
  },
  {
   "cell_type": "code",
   "execution_count": 2,
   "metadata": {
    "pycharm": {
     "name": "#%%\n"
    }
   },
   "outputs": [
    {
     "name": "stdout",
     "output_type": "stream",
     "text": [
      "      Klasse Bauart\n",
      "0      Pirat   Holz\n",
      "1  Folkeboot   Holz\n",
      "2     H-Boot    GFK\n",
      "3   Optimist    GFK\n",
      "   FahrtNr                      Name    Datum    Zeit\n",
      "0        1                 Moorpokal  18.6.03  10:00h\n",
      "1        2             Herbstmeister  16.9.03  14:00h\n",
      "2        3  Franz Huber Gedenk Preis  15.5.03  14:00h\n",
      "3        4               Blaues Band  29.5.03  10:00h\n",
      "     SegelNr  Wettfahrt Platz\n",
      "0   GER 4318          1     1\n",
      "1   GER 4318          2     2\n",
      "2   GER 4995          1     2\n",
      "3   GER 4995          2     1\n",
      "4   GER 5703          4     2\n",
      "5   GER 5107          4     1\n",
      "6   GER 5505          4     3\n",
      "7   GER 1393          3     1\n",
      "8   GER 3876          3     4\n",
      "9   GER 4309          3     3\n",
      "10  GER 4833          3   dnf\n",
      "11  GER 5503          3     2\n",
      "     SegelNr                Name Bootsklasse Baujahr        Farbe     Eigner\n",
      "0   GER 4318               Marie       Pirat    1992         Blau  D. Dummer\n",
      "1   GER 4995             Celeste       Pirat    1991          Rot  S. Schott\n",
      "2   GER 5703           Gruenspan    Optimist    1988        Gruen   M. Meise\n",
      "3   GER 5107            Windrose    Optimist    1987         Lila   V. Voelz\n",
      "4   GER 5503                Lisa      H-Boot    1983        Gruen  H. Hiller\n",
      "5   GER 3999               Willi    Optimist    1989         Weiß   E. Ernst\n",
      "6   GER 3876             No. Uno   Folkeboot    1993          Rot  N. Nichts\n",
      "7   GER 4309              Elkche      H-Boot    1981         Blau  M. Michel\n",
      "8   GER 4833           Martha H.      H-Boot    1994         Weiß   O. Otter\n",
      "9   GER 5505           Pistensau    Optimist    1993        Braun   F. Faser\n",
      "10  GER 1393  Carla F. Folkeboot        1972    Weiß  G. Gernhard        NaN\n"
     ]
    }
   ],
   "source": [
    "Bootsklasse = Relation('../resources/04_relationale_algebra/Bootsklasse.csv')\n",
    "Wettfahrt = Relation('../resources/04_relationale_algebra/Wettfahrt.csv')\n",
    "Platzierung = Relation('../resources/04_relationale_algebra/Platzierung.csv')\n",
    "Teilnehmer = Relation('../resources/04_relationale_algebra/Teilnehmer.csv')\n",
    "\n",
    "print(Bootsklasse)\n",
    "print(Wettfahrt)\n",
    "print(Platzierung)\n",
    "print(Teilnehmer)"
   ]
  },
  {
   "cell_type": "markdown",
   "metadata": {
    "pycharm": {
     "name": "#%% md\n"
    }
   },
   "source": [
    "1. Aus welchem Material wurde das Boot mit der Segelnummer „GER 4318“ gebaut und welcher Klasse gehört es an?"
   ]
  },
  {
   "cell_type": "code",
   "execution_count": null,
   "metadata": {
    "pycharm": {
     "name": "#%%\n"
    }
   },
   "outputs": [],
   "source": []
  },
  {
   "cell_type": "markdown",
   "metadata": {},
   "source": [
    "2. Wann starteten die Teilnehmer am „29.5.03“ und welche Boote der Klasse „Optimist“ nahmen an dieser Regatta teil?"
   ]
  },
  {
   "cell_type": "code",
   "execution_count": null,
   "metadata": {
    "pycharm": {
     "name": "#%%\n"
    }
   },
   "outputs": [],
   "source": []
  },
  {
   "cell_type": "markdown",
   "metadata": {},
   "source": [
    "3. An welchen Wettfahrten haben ausschließlich Holzboote teilgenommen?"
   ]
  },
  {
   "cell_type": "code",
   "execution_count": null,
   "metadata": {
    "pycharm": {
     "name": "#%%\n"
    }
   },
   "outputs": [],
   "source": []
  },
  {
   "cell_type": "markdown",
   "metadata": {},
   "source": [
    "4. Welche Bootsklassen nehmen am „Franz Huber Gedenk Preis“ oder am „Moorpokal“ teil?"
   ]
  },
  {
   "cell_type": "code",
   "execution_count": null,
   "metadata": {
    "pycharm": {
     "name": "#%%\n"
    }
   },
   "outputs": [],
   "source": []
  },
  {
   "cell_type": "markdown",
   "metadata": {},
   "source": [
    "5. Welche Boote konnten das Rennen um das „Blaue Band“ nicht beenden („dnf“)?"
   ]
  },
  {
   "cell_type": "code",
   "execution_count": null,
   "metadata": {
    "pycharm": {
     "name": "#%%\n"
    }
   },
   "outputs": [],
   "source": []
  },
  {
   "cell_type": "markdown",
   "metadata": {},
   "source": [
    "6. Wie viele Boote haben am „Franz Huber Gedenk Preis“ teilgenommen?"
   ]
  },
  {
   "cell_type": "code",
   "execution_count": null,
   "metadata": {
    "pycharm": {
     "name": "#%%\n"
    }
   },
   "outputs": [],
   "source": []
  },
  {
   "cell_type": "markdown",
   "metadata": {},
   "source": [
    "7. An welchem Rennen nahm das älteste Boot im Starterfeld teil?\n"
   ]
  },
  {
   "cell_type": "code",
   "execution_count": null,
   "metadata": {
    "pycharm": {
     "name": "#%%\n"
    }
   },
   "outputs": [],
   "source": []
  },
  {
   "cell_type": "markdown",
   "metadata": {},
   "source": [
    "## Übung 4: Semantisches Verständnis\n",
    "Geben Sie das Ergebnis und die umgangssprachliche Formulierung der folgenden Relationen Algebra Ausdrücke an:"
   ]
  },
  {
   "cell_type": "markdown",
   "metadata": {
    "pycharm": {
     "name": "#%% md\n"
    }
   },
   "source": [
    "![title](../resources/04_relationale_algebra/Ausdruck1.png)\n"
   ]
  },
  {
   "cell_type": "markdown",
   "metadata": {},
   "source": [
    "![title](../resources/04_relationale_algebra/Ausdruck2.png)"
   ]
  },
  {
   "cell_type": "markdown",
   "metadata": {
    "pycharm": {
     "name": "#%% md\n"
    }
   },
   "source": [
    "![title](../resources/04_relationale_algebra/Ausdruck3.png)\n",
    "\n"
   ]
  }
 ],
 "metadata": {
  "kernelspec": {
   "display_name": "Python 3",
   "language": "python",
   "name": "python3"
  },
  "language_info": {
   "codemirror_mode": {
    "name": "ipython",
    "version": 3
   },
   "file_extension": ".py",
   "mimetype": "text/x-python",
   "name": "python",
   "nbconvert_exporter": "python",
   "pygments_lexer": "ipython3",
   "version": "3.7.6"
  }
 },
 "nbformat": 4,
 "nbformat_minor": 1
}
