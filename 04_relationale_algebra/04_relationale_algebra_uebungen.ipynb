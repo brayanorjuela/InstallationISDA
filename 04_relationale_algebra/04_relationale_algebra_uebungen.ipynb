{
 "cells": [
  {
   "cell_type": "markdown",
   "metadata": {
    "pycharm": {
     "name": "#%% md\n"
    }
   },
   "source": [
    "<a id=\"start\"></a>\n",
    "## Übung 1: Bibliothek\n",
    "Eine Bibliothek speichert ihre vorhandenen Exemplare mithilfe einer lokalen Kennung.\n",
    "Zu jeder lokalen Kennung gehört eine ISBN, die für jedes Exemplar eindeutig identifiziert,\n",
    "um welches Buch es sich handelt. Zusätzlich speichert die Bibliothek ihre Nutzer und welche Bücher\n",
    "sie jeweils ausgeliehen haben. In den folgenden Aufgaben wollen wir typische Anfragen in\n",
    "Relationaler Algebra an diese Bibliotheksdatenbank stellen.\n"
   ]
  },
  {
   "cell_type": "code",
   "execution_count": null,
   "metadata": {
    "pycharm": {
     "name": "#%%\n"
    }
   },
   "outputs": [],
   "source": [
    "from reframe import Relation\n",
    "\n",
    "Benutzer = Relation('../resources/04_relationale_algebra/Benutzer.csv')\n",
    "Leiht_aus = Relation('../resources/04_relationale_algebra/Leiht_aus.csv')\n",
    "Exemplar = Relation('../resources/04_relationale_algebra/Exemplar.csv')\n",
    "Buch = Relation('../resources/04_relationale_algebra/Buch.csv')\n",
    "\n",
    "print(Benutzer)\n",
    "print(Leiht_aus)\n",
    "print(Exemplar)\n",
    "print(Buch)"
   ]
  },
  {
   "cell_type": "markdown",
   "metadata": {
    "pycharm": {
     "name": "#%% md\n"
    }
   },
   "source": [
    "1. Welche englischsprachigen Bücher (Titel) gibt es?"
   ]
  },
  {
   "cell_type": "code",
   "execution_count": null,
   "metadata": {
    "pycharm": {
     "name": "#%%\n"
    }
   },
   "outputs": [],
   "source": []
  },
  {
   "cell_type": "markdown",
   "metadata": {
    "pycharm": {
     "name": "#%% md\n"
    }
   },
   "source": [
    "2. Welche Benutzer haben noch nie ein Buch ausgeliehen?"
   ]
  },
  {
   "cell_type": "code",
   "execution_count": null,
   "metadata": {
    "pycharm": {
     "name": "#%%\n"
    }
   },
   "outputs": [],
   "source": []
  },
  {
   "cell_type": "markdown",
   "metadata": {},
   "source": [
    "3. Welche Benutzer (Vorname) haben ein Exemplar mit Buchtitel „Bierbrauen fuer jedermann“ ausgeliehen?"
   ]
  },
  {
   "cell_type": "code",
   "execution_count": null,
   "metadata": {
    "pycharm": {
     "name": "#%%\n"
    }
   },
   "outputs": [],
   "source": []
  },
  {
   "cell_type": "markdown",
   "metadata": {},
   "source": [
    "4. Alle Benutzer (Vorname), die mindestens zwei Exemplareausgeliehen haben."
   ]
  },
  {
   "cell_type": "code",
   "execution_count": null,
   "metadata": {
    "pycharm": {
     "name": "#%%\n"
    }
   },
   "outputs": [],
   "source": []
  },
  {
   "cell_type": "markdown",
   "metadata": {},
   "source": [
    "## Übung 2: Minimale und maximale Ausgabekardinalität von Operatoren\n",
    "\n",
    "* Gegeben seien zwei kompatible Relationen R(𝐵,𝐶) und S(𝐵,𝐶)\n",
    "* Die Relationen enthalten jeweils |R| und |S| Tupel\n",
    "* Welche Aussage können wir über |𝑆 ∪ 𝑇| treffen (Mengen)?\n",
    "    - Maximal?\n",
    "    - Minimal?\n",
    "* Welche Aussage können wir über |𝑆 ∪ 𝑇| treffen (Multimengen)?\n",
    "    - Maximum?\n",
    "    - Minimum?"
   ]
  },
  {
   "cell_type": "markdown",
   "metadata": {},
   "source": [
    "## Übung 3: Regatta-Informationssystem\n",
    "\n",
    "Formulieren Sie die folgenden textuellen Anfragen mit Hilfe der Relationen-Algebra."
   ]
  },
  {
   "cell_type": "code",
   "execution_count": null,
   "metadata": {
    "pycharm": {
     "name": "#%%\n"
    }
   },
   "outputs": [],
   "source": [
    "Bootsklasse = Relation('../resources/04_relationale_algebra/Bootsklasse.csv')\n",
    "Wettfahrt = Relation('../resources/04_relationale_algebra/Wettfahrt.csv')\n",
    "Platzierung = Relation('../resources/04_relationale_algebra/Platzierung.csv')\n",
    "Teilnehmer = Relation('../resources/04_relationale_algebra/Teilnehmer.csv')\n",
    "\n",
    "print(Bootsklasse)\n",
    "print(Wettfahrt)\n",
    "print(Platzierung)\n",
    "print(Teilnehmer)"
   ]
  },
  {
   "cell_type": "markdown",
   "metadata": {
    "pycharm": {
     "name": "#%% md\n"
    }
   },
   "source": [
    "1. Aus welchem Material wurde das Boot mit der Segelnummer „GER 4318“ gebaut und welcher Klasse gehört es an?"
   ]
  },
  {
   "cell_type": "code",
   "execution_count": null,
   "metadata": {
    "pycharm": {
     "name": "#%%\n"
    }
   },
   "outputs": [],
   "source": []
  },
  {
   "cell_type": "markdown",
   "metadata": {},
   "source": [
    "2. Wann starteten die Teilnehmer am „29.5.03“ und welche Boote der Klasse „Optimist“ nahmen an dieser Regatta teil?"
   ]
  },
  {
   "cell_type": "code",
   "execution_count": null,
   "metadata": {
    "pycharm": {
     "name": "#%%\n"
    }
   },
   "outputs": [],
   "source": []
  },
  {
   "cell_type": "markdown",
   "metadata": {},
   "source": [
    "3. An welchen Wettfahrten haben ausschließlich Holzboote teilgenommen?"
   ]
  },
  {
   "cell_type": "code",
   "execution_count": null,
   "metadata": {
    "pycharm": {
     "name": "#%%\n"
    }
   },
   "outputs": [],
   "source": []
  },
  {
   "cell_type": "markdown",
   "metadata": {},
   "source": [
    "4. Welche Bootsklassen nehmen am „Franz Huber Gedenk Preis“ oder am „Moorpokal“ teil?"
   ]
  },
  {
   "cell_type": "code",
   "execution_count": null,
   "metadata": {
    "pycharm": {
     "name": "#%%\n"
    }
   },
   "outputs": [],
   "source": []
  },
  {
   "cell_type": "markdown",
   "metadata": {},
   "source": [
    "5. Welche Boote konnten das Rennen um das „Blaue Band“ nicht beenden („dnf“)?"
   ]
  },
  {
   "cell_type": "code",
   "execution_count": null,
   "metadata": {
    "pycharm": {
     "name": "#%%\n"
    }
   },
   "outputs": [],
   "source": []
  },
  {
   "cell_type": "markdown",
   "metadata": {},
   "source": [
    "6. Wie viele Boote haben am „Franz Huber Gedenk Preis“ teilgenommen?"
   ]
  },
  {
   "cell_type": "code",
   "execution_count": null,
   "metadata": {
    "pycharm": {
     "name": "#%%\n"
    }
   },
   "outputs": [],
   "source": []
  },
  {
   "cell_type": "markdown",
   "metadata": {},
   "source": [
    "7. An welchem Rennen nahm das älteste Boot im Starterfeld teil?\n"
   ]
  },
  {
   "cell_type": "code",
   "execution_count": null,
   "metadata": {
    "pycharm": {
     "name": "#%%\n"
    }
   },
   "outputs": [],
   "source": []
  },
  {
   "cell_type": "markdown",
   "metadata": {},
   "source": [
    "## Übung 4: Semantisches Verständnis\n",
    "Geben Sie das Ergebnis und die umgangssprachliche Formulierung der folgenden Relationen Algebra Ausdrücke an:"
   ]
  },
  {
   "cell_type": "markdown",
   "metadata": {
    "pycharm": {
     "name": "#%% md\n"
    }
   },
   "source": [
    "![title](../resources/04_relationale_algebra/Ausdruck1.png)\n"
   ]
  },
  {
   "cell_type": "markdown",
   "metadata": {},
   "source": [
    "![title](../resources/04_relationale_algebra/Ausdruck2.png)"
   ]
  },
  {
   "cell_type": "markdown",
   "metadata": {
    "pycharm": {
     "name": "#%% md\n"
    }
   },
   "source": [
    "![title](../resources/04_relationale_algebra/Ausdruck3.png)\n",
    "\n"
   ]
  }
 ],
 "metadata": {
  "kernelspec": {
   "display_name": "PyCharm (reframe)",
   "language": "python",
   "name": "pycharm-478dec2b"
  },
  "language_info": {
   "codemirror_mode": {
    "name": "ipython",
    "version": 3
   },
   "file_extension": ".py",
   "mimetype": "text/x-python",
   "name": "python",
   "nbconvert_exporter": "python",
   "pygments_lexer": "ipython3"
  }
 },
 "nbformat": 4,
 "nbformat_minor": 1
}
