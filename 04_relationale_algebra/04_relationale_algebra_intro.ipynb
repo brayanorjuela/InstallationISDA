{
 "cells": [
  {
   "cell_type": "markdown",
   "metadata": {},
   "source": [
    "# Relationale Algebra\n",
    "\n",
    "## Das Formale Konzept hinter Anfragesprachen, wie z.B. SQL\n",
    "\n",
    "In der Vorlesung haben wir die Operatoren kennengelernt.\n",
    "Dieses Notebook deckt nicht alle Operatoren der Relationalen Algebra ab. Für einen Überblick bitte das Vorlesungsmaterial betrachten!\n",
    "Der Zweck dieses Notebooks ist Relationale Algebra interaktiv zu üben.\n",
    "Dafür benutzen wir eine erweiterte Version der Python Library [reframe](https://github.com/bnmnetp/reframe)."
   ]
  },
  {
   "cell_type": "markdown",
   "metadata": {
    "pycharm": {
     "name": "#%% md\n"
    }
   },
   "source": [
    "Los gehts!\n",
    "Zuerst definieren wir eine Relation und benutzen als Eingabe die beigefügte CSV Datei.\n",
    "Relationale Algebra Ausdrücke haben als Eingabe eine (oder mehrere) Relation(en), und gibt eine neue Relation als Ausgabe zurück."
   ]
  },
  {
   "cell_type": "code",
   "execution_count": null,
   "metadata": {
    "pycharm": {
     "name": "#%%\n"
    }
   },
   "outputs": [],
   "source": [
    "from reframe import Relation\n",
    "country = Relation('../resources/04_relationale_algebra/country.csv')\n",
    "country"
   ]
  },
  {
   "cell_type": "markdown",
   "metadata": {
    "pycharm": {
     "name": "#%% md\n"
    }
   },
   "source": [
    "Die Operation σ (Selektion) begrenzt die Tupel der Eingaberelation, anhand des gegebenens Prädikats.\n",
    "Wir wollen jetzt die Länder ausgeben lassen, welche sich in Asien oder Europa befinden.\n",
    "\n",
    "![Select Example](../resources/04_relationale_algebra/select_example.png)"
   ]
  },
  {
   "cell_type": "code",
   "execution_count": null,
   "metadata": {
    "pycharm": {
     "name": "#%%\n"
    }
   },
   "outputs": [],
   "source": [
    "country.select('continent==\"Asia\" | continent==\"Europe\"')"
   ]
  },
  {
   "cell_type": "markdown",
   "metadata": {},
   "source": [
    "Die Operation π (Projektion) begrenzt die Attribute der Eingaberelation, anhand der gegebenen Attributnamen.\n",
    "In unserem Beispiel, wollen wir nun nur den Ländercode, Namen und Kontinent der Länder die sich entweder in Asien oder Europa befinden ausgeben lassen.\n",
    "\n",
    "![select_project](../resources/04_relationale_algebra/select_project.png)"
   ]
  },
  {
   "cell_type": "code",
   "execution_count": null,
   "metadata": {
    "pycharm": {
     "name": "#%%\n"
    }
   },
   "outputs": [],
   "source": [
    "country.select('continent==\"Asia\" | continent==\"Europe\"').project([\"code\",\"name\", \"continent\"])"
   ]
  },
  {
   "cell_type": "markdown",
   "metadata": {},
   "source": [
    "Die Reihenfolge dieser Operationen spielt keine Rolle, folgendes liefert also dasselbe Ergebnis mit dem oben ausgeführtem Ausdruck:\n",
    "\n",
    "![project_select](../resources/04_relationale_algebra/project_select.png)"
   ]
  },
  {
   "cell_type": "code",
   "execution_count": null,
   "metadata": {
    "pycharm": {
     "name": "#%%\n"
    }
   },
   "outputs": [],
   "source": [
    "country.project([\"code\",\"name\", \"continent\"]).select('continent==\"Asia\" | continent==\"Europe\"')"
   ]
  },
  {
   "cell_type": "markdown",
   "metadata": {},
   "source": [
    "Der Operator ρ erlaubt es, ein Attribut in der Ausgangsrelation umbzubenennen\n",
    "\n",
    "![select_project_rename](../resources/04_relationale_algebra/select_project_rename.png)"
   ]
  },
  {
   "cell_type": "code",
   "execution_count": null,
   "metadata": {
    "pycharm": {
     "name": "#%%\n"
    }
   },
   "outputs": [],
   "source": [
    "country.select('continent==\"Asia\" | continent==\"Europe\"').project([\"code\",\"name\", \"continent\"]).rename(\"name\",\"Land\")\n"
   ]
  },
  {
   "cell_type": "markdown",
   "metadata": {},
   "source": [
    "Bisher haben wir unäre Operatoren betrachtet. Jetzt betrachten wir binäre Operationen.\n",
    "Der Operator - erlaubt es, die Differenz von zwei Relationen zu berechnen. Folgender Ausdruck gibt alle Länder die nicht zu Asien gehören zurück.\n",
    "\n",
    "![cut](../resources/04_relationale_algebra/select_diff.png)"
   ]
  },
  {
   "cell_type": "code",
   "execution_count": null,
   "metadata": {
    "pycharm": {
     "name": "#%%\n"
    }
   },
   "outputs": [],
   "source": [
    "asia = country.select('continent==\"Asia\"')\n",
    "\n",
    "country.minus(asia)"
   ]
  },
  {
   "cell_type": "markdown",
   "metadata": {},
   "source": [
    "Der Operator ∪ erlaubt es, zwei Relationen zu vereinigen. Folgender Ausdruck gibt die Länder die zu Europa und Asien gehören zurück.\n",
    "\n",
    "![union](../resources/04_relationale_algebra/select_union.png)"
   ]
  },
  {
   "cell_type": "code",
   "execution_count": null,
   "metadata": {
    "pycharm": {
     "name": "#%%\n"
    }
   },
   "outputs": [],
   "source": [
    "asia = country.select('continent==\"Asia\"')\n",
    "europe = country.select('continent==\"Europe\"')\n",
    "\n",
    "asia.union(europe)\n"
   ]
  },
  {
   "cell_type": "markdown",
   "metadata": {
    "pycharm": {
     "name": "#%% md\n"
    }
   },
   "source": [
    "Mit dem Operator ⨯ wird das kartesische Produkt gebildet.\n",
    "Wir definieren eine neue Relation country_stats, welche Statistiken beinhaltet und bilden das kartesische Produkt über country und country_stats.\n",
    "\n",
    "![cartesian](../resources/04_relationale_algebra/cartesian.png)"
   ]
  },
  {
   "cell_type": "code",
   "execution_count": null,
   "metadata": {
    "pycharm": {
     "name": "#%%\n"
    }
   },
   "outputs": [],
   "source": [
    "country_stats = Relation('../resources/04_relationale_algebra/country_stats.csv')\n",
    "country.cartesian_product(country_stats)\n"
   ]
  },
  {
   "cell_type": "markdown",
   "metadata": {
    "pycharm": {
     "name": "#%% md\n"
    }
   },
   "source": [
    "Der Natural Join Operator hat zwei Relationen als Eingaben und gibt eine neue Relation mit diesen Tupeln zurück, bei denen die Werte der gemeinsamen Attribute übereinstimmen.\n",
    "Zum Beispiel, wenn wir die Relationen\n",
    "\n",
    "![njoin](../resources/04_relationale_algebra/njoin.png)"
   ]
  },
  {
   "cell_type": "code",
   "execution_count": null,
   "metadata": {
    "pycharm": {
     "name": "#%%\n"
    }
   },
   "outputs": [],
   "source": [
    "country.njoin(country_stats)"
   ]
  },
  {
   "cell_type": "markdown",
   "metadata": {},
   "source": [
    "θ-join ist ein erweiterter Operator, der das kartesische Produkt und eine Selektion kombiniert um zwei Relationen zu joinen. Im folgenden, sehen wir wie der θ-join Operator aus den Basisoperationen abgeleitet werden kann.\n",
    "\n",
    "![tjoin](../resources/04_relationale_algebra/tjoin.png)\n",
    "\n",
    "In folgendem Ausdruck wird ein kartesisches Produkt mit einer Selektion benutzt und wir erhalten das selbe Ergebnis wie oben.\n"
   ]
  },
  {
   "cell_type": "code",
   "execution_count": null,
   "metadata": {
    "pycharm": {
     "name": "#%%\n"
    }
   },
   "outputs": [],
   "source": [
    "country.cartesian_product(country_stats.rename(\"code\",\"countrycode\")).select(\"code == countrycode\").project([\"code\",\"name\",\"continent\",\"region\",\"surfacearea\",\"indepyear\",\"population\",\"lifeexpectancy\",\"gnp\",\"gnpold\",\"localname\",\"governmentform\",\"headofstate\",\"capital\",\"code2\"])\n"
   ]
  },
  {
   "cell_type": "markdown",
   "metadata": {},
   "source": [
    "Der intersection Operator erlaubt es die Schnittmenge zweier Relationen zu bilden.\n",
    "Wir führen zwei neue Relationen ein. Eine die Länder mit hoher Lebenserwartung entält, und eine andere die Länder mit großer Bevölkerung enthält.\n",
    "Wir wollen die Schnittmenge dieser Relationen berechnen:\n",
    "\n",
    "![select_cut](../resources/04_relationale_algebra/select_cut.png)"
   ]
  },
  {
   "cell_type": "code",
   "execution_count": null,
   "metadata": {
    "pycharm": {
     "name": "#%%\n"
    }
   },
   "outputs": [],
   "source": [
    "highlifeexp = country_stats.select('lifeexpectancy > 60')\n",
    "largepopulation = country_stats.select('population > 80000000')\n",
    "\n",
    "highlifeexp.intersect(largepopulation)\n"
   ]
  },
  {
   "cell_type": "markdown",
   "metadata": {},
   "source": [
    "Ungruppierte Aggregationen erlauben es Aggregate wie Minimum, Maximum und Durschnitt auf Relationen zu berechnen.\n",
    "Im nächsten Beispiel wollen wir die Anzahl der Tupel unserer Relation berechnen:"
   ]
  },
  {
   "cell_type": "code",
   "execution_count": null,
   "metadata": {
    "pycharm": {
     "name": "#%%\n"
    }
   },
   "outputs": [],
   "source": [
    "country.count()"
   ]
  },
  {
   "cell_type": "markdown",
   "metadata": {
    "pycharm": {
     "name": "#%% md\n"
    }
   },
   "source": [
    "Guppierte Aggregationen erlauben es Aggregate wie Minimum, Maximum und Durschnitt auf Gruppen zu berechnen.\n",
    "Im nächsten Beispiel berechnen wir die Anzahl der Länder in jedem Kontinent."
   ]
  },
  {
   "cell_type": "code",
   "execution_count": null,
   "metadata": {
    "pycharm": {
     "name": "#%%\n"
    }
   },
   "outputs": [],
   "source": [
    "country.groupby('continent').count('code')"
   ]
  },
  {
   "cell_type": "markdown",
   "metadata": {},
   "source": [
    "Im nächsten Beispiel wollen wir den Ländercode und die Fläche des Landes mit der kleinsten Fläche berechnen:"
   ]
  },
  {
   "cell_type": "code",
   "execution_count": null,
   "metadata": {
    "pycharm": {
     "name": "#%%\n"
    }
   },
   "outputs": [],
   "source": [
    "country.njoin(country_stats).min('surfacearea').cartesian_product(country_stats).select(\"min==surfacearea\").project([\"code\",\"surfacearea\"])"
   ]
  }
 ],
 "metadata": {
  "kernelspec": {
   "display_name": "Python 3",
   "language": "python",
   "name": "python3"
  },
  "language_info": {
   "codemirror_mode": {
    "name": "ipython",
    "version": 3
   },
   "file_extension": ".py",
   "mimetype": "text/x-python",
   "name": "python",
   "nbconvert_exporter": "python",
   "pygments_lexer": "ipython3"
  }
 },
 "nbformat": 4,
 "nbformat_minor": 1
}
