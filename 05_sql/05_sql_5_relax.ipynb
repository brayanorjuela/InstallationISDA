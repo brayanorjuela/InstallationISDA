{
 "cells": [
  {
   "cell_type": "markdown",
   "metadata": {},
   "source": [
    "## Aufgaben im Relax Web-tool bearbeiten\n",
    "<p>\n",
    "<span>Gegeben seien folgende Relationen</span><br>\n",
    "<img src=\"../resources/04_relationale_algebra/regatta.png\">\n",
    "</p>"
   ]
  },
  {
   "cell_type": "markdown",
   "metadata": {},
   "source": [
    "### Aufgabe 1\n",
    "\n",
    "Formulieren Sie die folgenden Ausdrücke der relationalen Algebra in SQL.\n",
    "\n",
    "1. ![ra1](../resources/05_sql/1_1.png)\n",
    "\n",
    "2. ![ra2](../resources/05_sql/1_2.png)"
   ]
  },
  {
   "cell_type": "markdown",
   "metadata": {},
   "source": [
    "### Aufgabe 2\n",
    "\n",
    "<span>Formulieren Sie die folgenden textuellen Anfragen zur angegebenen Regatta Datenbank mit Hilfe der Relationen Algebra.</span>\n",
    "<ol type=\"1\">\n",
    "    <li>Aus welchem Material wurde das Boot mit der Segelnummer „GER4318“ gebaut und welcher Klasse gehört es an?</li>\n",
    "    <li>Wann starteten die Teilnehmer am „29.5.03“ und welche Boote der Klasse „Optimist“ nahmen an dieser Regatta teil?</li>\n",
    "    <li>An welchen Regatten haben ausschließlich Holzboote teilgenommen?</li>\n",
    "    <li>Welche Bootsklassen nehmen am „Franz Huber Gedenk Preis“ oder am „Moorpokal“ teil?</li>\n",
    "    <li>Welche Boote konnten das Rennen „Blaues Band“ nicht beenden („dnf“)? </li>\n",
    "    <li>Wie viele Boote haben am „Franz Huber Gedenk Preis“ teilgenommen?</li>\n",
    "    <li>An welchem Rennen nahm das älteste Boot im Starterfeld teil? </li>\n",
    "</ol>\n"
   ]
  },
  {
   "cell_type": "code",
   "execution_count": 3,
   "metadata": {
    "pycharm": {
     "name": "#%%\n"
    },
    "slideshow": {
     "slide_type": "-"
    }
   },
   "outputs": [
    {
     "data": {
      "text/html": [
       "<iframe src=\"https://dbis-uibk.github.io/relax/calc.htm?data=gist:e51c9b802654b94d2b308b995e733661\" width=\"950\" height=\"800\"></iframe>"
      ],
      "text/plain": [
       "<IPython.core.display.HTML object>"
      ]
     },
     "metadata": {},
     "output_type": "display_data"
    }
   ],
   "source": [
    "%%html\n",
    "<iframe src=\"https://dbis-uibk.github.io/relax/calc.htm?data=gist:e51c9b802654b94d2b308b995e733661\" width=\"950\" height=\"800\"></iframe>"
   ]
  },
  {
   "cell_type": "markdown",
   "source": [
    "### Aufgabe 3\n",
    "<p>\n",
    "<span>Gegeben seien folgende Relationen</span><br>\n",
    "<img src=\"../resources/05_sql/uni.png\"/>\n",
    "</p>\n",
    "\n",
    "<span>Formulieren Sie die folgenden textuellen Anfragen zur angegebenen Datenbank in SQL.</span>\n",
    "<ol type=\"1\">\n",
    "    <li>Studenten, die im zweiten Semester sind.</li>\n",
    "    <li>Namen aller Studenten, die im zweiten Semester sind.</li>\n",
    "    <li>Sämtliche Kombinationen aus Studenten und Hören.</li>\n",
    "    <li>Matrikelnummer aller Studenten, die keine Vorlesung hören.</li>\n",
    "    <li>Alle Studenten(Matrikelnummer, Name, Semester), die keine Vorlesung hören.</li>\n",
    "    <li>Namen aller Studenten und Professoren.</li>\n",
    "    <li>Alle Studenten, die mindestens eine Vorlesung hören.</li>\n",
    "    <li>Matrikelnummer aller Studenten und die Anzahl der von ihnen besuchten Vorlesungen.</li>\n",
    "    <li>Matrikelnummer aller Studenten und die Anzahl der von ihnen besuchten Vorlesungen, ausgegeben werden sollen auch die Matrikelnummern der Studenten, die keine Vorlesungen hören.</li>\n",
    "    <li>Alle Studenten, die weniger als drei Vorlesungen hören.</li>\n",
    "</ol>"
   ],
   "metadata": {
    "collapsed": false
   }
  },
  {
   "cell_type": "code",
   "execution_count": null,
   "outputs": [],
   "source": [
    "%%html\n",
    "<iframe src=\"https://dbis-uibk.github.io/relax/calc.htm?data=gist:2580c93f1cc2b3a91eb8544d9f160940\" width=\"950\" height=\"800\"></iframe>"
   ],
   "metadata": {
    "collapsed": false,
    "pycharm": {
     "name": "#%%\n"
    }
   }
  }
 ],
 "metadata": {
  "celltoolbar": "Slideshow",
  "kernelspec": {
   "display_name": "Python 3",
   "language": "python",
   "name": "python3"
  },
  "language_info": {
   "codemirror_mode": {
    "name": "ipython",
    "version": 3
   },
   "file_extension": ".py",
   "mimetype": "text/x-python",
   "name": "python",
   "nbconvert_exporter": "python",
   "pygments_lexer": "ipython3",
   "version": "3.5.6"
  }
 },
 "nbformat": 4,
 "nbformat_minor": 2
}