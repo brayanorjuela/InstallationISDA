{
 "cells": [
  {
   "cell_type": "markdown",
   "metadata": {
    "pycharm": {
     "name": "#%% md\n"
    }
   },
   "source": [
    "# SQL DDL & DML\n",
    "\n",
    "In diesem Notebook üben wir SQL DDL und DML. Dafür benutzen wir die eingebettete Datenbank [sqlite](https://docs.python.org/3/library/sqlite3.html).\n",
    "Als erstes wollen wir unsere Datenbank initialiseren:"
   ]
  },
  {
   "cell_type": "code",
   "execution_count": null,
   "metadata": {},
   "outputs": [],
   "source": [
    "import sqlite3\n",
    "import pandas as pd\n",
    "\n",
    "conn = sqlite3.connect('wettfahrt_intro.db')\n",
    "cursor = c = conn.cursor()"
   ]
  },
  {
   "cell_type": "markdown",
   "metadata": {},
   "source": [
    "Als nächstes wollen wir die Tabelle Bootsklasse erstellen:"
   ]
  },
  {
   "cell_type": "code",
   "execution_count": null,
   "metadata": {
    "pycharm": {
     "name": "#%%\n"
    }
   },
   "outputs": [],
   "source": [
    "cursor.execute(\"CREATE TABLE Bootsklasse(Klasse CHAR(12) PRIMARY KEY, Bauart CHAR(12))\")"
   ]
  },
  {
   "cell_type": "markdown",
   "metadata": {},
   "source": [
    "Jetzt wollen wir ein neues Tupel in unsere Tabelle einfügen:"
   ]
  },
  {
   "cell_type": "code",
   "execution_count": null,
   "metadata": {
    "pycharm": {
     "name": "#%%\n"
    }
   },
   "outputs": [],
   "source": [
    "cursor.execute(\"INSERT INTO Bootsklasse (Klasse, Bauart) VALUES ('Folkeboot', 'Holz')\")"
   ]
  },
  {
   "cell_type": "markdown",
   "metadata": {
    "pycharm": {
     "name": "#%% md\n"
    }
   },
   "source": [
    "Man kann auch mehrere Tupel gleichzeitig in eine Tabelle einfügen:"
   ]
  },
  {
   "cell_type": "code",
   "execution_count": null,
   "metadata": {
    "pycharm": {
     "name": "#%%\n"
    }
   },
   "outputs": [],
   "source": [
    "cursor.execute(\"INSERT INTO Bootsklasse (Klasse, Bauart) VALUES ('H-Boot', 'GFK'), ('Optimist', 'GFK'), ('Pirat', 'Holz')\")"
   ]
  },
  {
   "cell_type": "markdown",
   "metadata": {},
   "source": [
    "Nun wollen wir die eingefügten Tupel anzeigen lassen:"
   ]
  },
  {
   "cell_type": "code",
   "execution_count": null,
   "metadata": {
    "pycharm": {
     "name": "#%%\n"
    }
   },
   "outputs": [],
   "source": [
    "query = \"SELECT * FROM Bootsklasse\"\n",
    "pd.read_sql_query(query, conn)\n"
   ]
  },
  {
   "cell_type": "markdown",
   "metadata": {},
   "source": [
    "Als letztes, wollen wir unsere Tabelle aktualisieren:"
   ]
  },
  {
   "cell_type": "code",
   "execution_count": null,
   "metadata": {
    "pycharm": {
     "name": "#%%\n"
    }
   },
   "outputs": [],
   "source": [
    "cursor.execute(\"UPDATE Bootsklasse SET Bauart='GFK' WHERE Klasse='Folkeboot'\")\n",
    "query = \"SELECT * FROM Bootsklasse\"\n",
    "pd.read_sql_query(query, conn)\n"
   ]
  }
 ],
 "metadata": {
  "kernelspec": {
   "display_name": "Python 3",
   "language": "python",
   "name": "python3"
  },
  "language_info": {
   "codemirror_mode": {
    "name": "ipython",
    "version": 3
   },
   "file_extension": ".py",
   "mimetype": "text/x-python",
   "name": "python",
   "nbconvert_exporter": "python",
   "pygments_lexer": "ipython3"
  }
 },
 "nbformat": 4,
 "nbformat_minor": 1
}
