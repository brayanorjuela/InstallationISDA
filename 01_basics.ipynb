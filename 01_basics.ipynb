{
 "cells": [
  {
   "cell_type": "markdown",
   "metadata": {
    "pycharm": {
     "name": "#%% md\n"
    }
   },
   "source": [
    "# Python Grundlagen\n",
    "\n",
    "Ziel dieser Übung ist es die folgenden Grundlagen zu Python und Jupyter zu vermitteln:\n",
    " - [Code kommentieren](#commenting)\n",
    " - [Deklaration von Variablen](#variablen)\n",
    " - [Arithmetische Operationen](#arithmetik)\n",
    " - [Namenskonventionen](#naming)\n",
    " - [Listen, Sets, Tuple, Dictionaries](#datatypes)\n",
    " - [If-Else Abfragen](#ifelse)\n",
    " - [While Schleife](#whileloop)\n",
    " - [For Schleife](#forloop)\n",
    " - [Range Operator](#range)\n",
    " - [Definition eigener Funktionen](#functions)\n",
    " - [Lambdas](#lambdas)\n",
    " - [Grundlagen in Pandas](#pandas)\n",
    "\n",
    "Dieses Material wird im Rahmen der Lehrveranstaltung _Informationssysteme und Datenanalyse_ von der\n",
    "Gruppe [Database Systems and Information Management](https://www.dima.tu-berlin.de/menue/database_systems_and_information_management_group) (DIMA) der TU Berlin zur Verfügung gestellt.\n"
   ]
  },
  {
   "cell_type": "markdown",
   "metadata": {
    "pycharm": {
     "name": "#%% md\n"
    }
   },
   "source": [
    "<a id=\"commenting\"></a>\n",
    "## Code kommentieren"
   ]
  },
  {
   "cell_type": "code",
   "execution_count": 1,
   "metadata": {},
   "outputs": [
    {
     "name": "stdout",
     "output_type": "stream",
     "text": [
      "-1\n",
      "ich bin\n"
     ]
    }
   ],
   "source": [
    "print(4-5)\n",
    "print(\"ich bin\")"
   ]
  },
  {
   "cell_type": "code",
   "execution_count": 2,
   "metadata": {
    "pycharm": {
     "name": "#%%\n"
    }
   },
   "outputs": [
    {
     "name": "stdout",
     "output_type": "stream",
     "text": [
      "hello world\n"
     ]
    }
   ],
   "source": [
    "# dies ist ein einzeiliger Kommentar\n",
    "print('hello world') # Zeichen nach dem \"#\" Symbol werden vom Python Interpreter ignoriert\n"
   ]
  },
  {
   "cell_type": "code",
   "execution_count": 3,
   "metadata": {
    "pycharm": {
     "name": "#%%\n"
    }
   },
   "outputs": [
    {
     "name": "stdout",
     "output_type": "stream",
     "text": [
      "hello world\n",
      "Hallo Welt!\n"
     ]
    }
   ],
   "source": [
    "\"\"\"\n",
    "Ein Kommentar \n",
    "über\n",
    "mehrere \n",
    "Zeilen.\n",
    "\"\"\"\n",
    "print(\"hello world\")\n",
    "print(\"Hallo Welt!\")\n",
    "\n"
   ]
  },
  {
   "cell_type": "markdown",
   "metadata": {},
   "source": [
    "<a id=\"variablen\"></a>\n",
    "## Deklaration von Variablen\n",
    "\n",
    "Variablen können beliebige Werte annehmen. Typ oder Größe müssen nicht vorher definiert werden.\n",
    "Python differenziert zwischen Groß- und Kleinschreibung und benötigt, anders als bei Java oder C, kein Semikolon am Ende eines Befehls.\n",
    "\n",
    "Die Variable, die den Wert annehmen soll, steht auf der linken Seite. Der neue Wert der Variable steht auf der rechten Seite."
   ]
  },
  {
   "cell_type": "code",
   "execution_count": 4,
   "metadata": {
    "pycharm": {
     "name": "#%%\n"
    }
   },
   "outputs": [
    {
     "name": "stdout",
     "output_type": "stream",
     "text": [
      "2.4 <class 'float'>\n",
      "3.0 <class 'float'>\n",
      "Hello <class 'str'>\n",
      "World! <class 'str'>\n",
      "23.5 <class 'float'>\n"
     ]
    }
   ],
   "source": [
    "abasdx = 3 # integer\n",
    "x=2.4\n",
    "y = 3. # floating point number\n",
    "z = \"Hello\" # ein string definiert mit \"\"\n",
    "# ein string, in der Variablen Z definiert mit ''\n",
    "Z = 'World!'\n",
    "\n",
    "print(x, type(x))\n",
    "print(y, type(y))\n",
    "print(z, type(z))\n",
    "print(Z, type(Z))\n",
    "\n",
    "Z = 23.5\n",
    "print(Z, type(Z))"
   ]
  },
  {
   "cell_type": "code",
   "execution_count": 5,
   "metadata": {
    "pycharm": {
     "name": "#%%\n"
    }
   },
   "outputs": [
    {
     "name": "stdout",
     "output_type": "stream",
     "text": [
      "False <class 'bool'>\n",
      "True <class 'bool'>\n"
     ]
    }
   ],
   "source": [
    "# bool Werte werden mit False oder True deklariert\n",
    "f = False\n",
    "t = True\n",
    "\n",
    "print(f, type(f))\n",
    "print(t, type(t))"
   ]
  },
  {
   "cell_type": "markdown",
   "metadata": {},
   "source": [
    "<a id=\"arithmetik\"></a>\n",
    "## Arithmetische Operationen"
   ]
  },
  {
   "cell_type": "code",
   "execution_count": 6,
   "metadata": {
    "pycharm": {
     "name": "#%%\n"
    }
   },
   "outputs": [
    {
     "name": "stdout",
     "output_type": "stream",
     "text": [
      "Summe :  8\n",
      "Differenz :  2\n",
      "Produkt :  15\n",
      "Potenz :  125\n",
      "Modulo :  2\n",
      "Floor Division :  1\n",
      "Float Division :  1.6666666666666667\n"
     ]
    },
    {
     "data": {
      "text/plain": [
       "float"
      ]
     },
     "execution_count": 6,
     "metadata": {},
     "output_type": "execute_result"
    }
   ],
   "source": [
    "i = 5\n",
    "j = 3\n",
    "print(\"Summe : \", i+j)\n",
    "print(\"Differenz : \" , i-j)\n",
    "print(\"Produkt : \" , i*j)\n",
    "print(\"Potenz : \", i**j)\n",
    "print(\"Modulo : \" , i%j)\n",
    "print(\"Floor Division : \" , i//j)\n",
    "print(\"Float Division : \" , i/j)\n",
    "result = i/j\n",
    "type(result)\n",
    "\n",
    "\n"
   ]
  },
  {
   "cell_type": "markdown",
   "metadata": {},
   "source": [
    "<a id=\"naming\"></a>\n",
    "## Namenskonventionen\n",
    "\n",
    "Ein gängiger Guide zu korrektem Code Style sind die Vorgaben von PEP8:\n",
    "https://www.python.org/dev/peps/pep-0008/\n",
    "\n",
    "Variablen und Funktionen sollten folgende Konvention beachten: <br>\n",
    "snake_case <br>\n",
    "lower_case_with_underscore\n",
    "\n",
    "Allerdings wird auch **camelCase** häufiger gesehen.\n",
    "\n"
   ]
  },
  {
   "cell_type": "code",
   "execution_count": 7,
   "metadata": {
    "pycharm": {
     "name": "#%%\n"
    }
   },
   "outputs": [
    {
     "name": "stdout",
     "output_type": "stream",
     "text": [
      "hallo123\n",
      "hallo345\n",
      "hallo567\n"
     ]
    }
   ],
   "source": [
    "# snake_case\n",
    "mein_string = \"hallo123\"\n",
    "mein_zweiter_string = \"hallo345\"\n",
    "# camelCase\n",
    "meinDritterString = \"hallo567\"\n",
    "\n",
    "print(mein_string)\n",
    "print(mein_zweiter_string)\n",
    "print(meinDritterString)\n"
   ]
  },
  {
   "cell_type": "markdown",
   "metadata": {},
   "source": [
    "<a id=\"datatypes\"></a>\n",
    "## Listen, Sets, Tuple, Dictionaries\n",
    "**Listen** <br> sind Sammlungen von Elementen und behalten die Reihenfolge bei. Listen haben eine variable Größe."
   ]
  },
  {
   "cell_type": "code",
   "execution_count": 8,
   "metadata": {
    "pycharm": {
     "name": "#%%\n"
    }
   },
   "outputs": [
    {
     "name": "stdout",
     "output_type": "stream",
     "text": [
      "[87, 43, 1, 4, 321, 5, 2, 21, 1, 32, 1, 43] <class 'list'>\n",
      "[87, 43, 1, 4, 321, 5, 2, 21, 1, 32, 1, 43, 43] <class 'list'>\n",
      "[87, 43, 1, 4, 321, 5, 2, 21, 1, 32, 1, 43, 43, 34, 21, 74, 146] <class 'list'>\n"
     ]
    },
    {
     "data": {
      "text/plain": [
       "321"
      ]
     },
     "execution_count": 8,
     "metadata": {},
     "output_type": "execute_result"
    }
   ],
   "source": [
    "meine_liste = [87, 43, 1, 4, 321, 5, 2, 21, 1, 32, 1, 43]\n",
    "print(meine_liste, type(meine_liste))\n",
    "\n",
    "#Einfügen von einem Element in eine Liste\n",
    "meine_liste.append(43)\n",
    "print(meine_liste, type(meine_liste))\n",
    "\n",
    "#Zusammenführen von zwei Listen\n",
    "meine_liste.extend([34, 21, 74, 146])\n",
    "print(meine_liste, type(meine_liste))\n",
    "\n",
    "meine_liste[4:-1]\n",
    "\n",
    "meine_liste[4]\n"
   ]
  },
  {
   "cell_type": "markdown",
   "metadata": {
    "pycharm": {
     "name": "#%% md\n"
    }
   },
   "source": [
    "**Sets** <br> sind unsortiere, duplikat-freie Sammlungen von Elementen."
   ]
  },
  {
   "cell_type": "code",
   "execution_count": 9,
   "metadata": {
    "pycharm": {
     "name": "#%%\n"
    }
   },
   "outputs": [
    {
     "name": "stdout",
     "output_type": "stream",
     "text": [
      "{32, 321, 1, 2, 4, 5, 43, 21, 87} <class 'set'>\n",
      "{32, 321, 1, 2, 4, 5, 43, 21, 87, 56} <class 'set'>\n",
      "{32, 1, 2, 4, 5, 43, 21, 87, 56} <class 'set'>\n",
      "{32, 1, 2, 4, 5, 43, 12, 653, 145, 723, 21, 87, 56} <class 'set'>\n"
     ]
    }
   ],
   "source": [
    "mein_set = {87, 43, 1, 4, 321, 5, 2, 21, 1, 32, 1, 43}\n",
    "print(mein_set, type(mein_set))\n",
    "\n",
    "# hinzüfügen eines Elementes\n",
    "mein_set.add(56)\n",
    "print(mein_set, type(mein_set))\n",
    "\n",
    "# entfernen\n",
    "mein_set.remove(321)\n",
    "print(mein_set, type(mein_set))\n",
    "\n",
    "# zusammenführen von zwei Sets\n",
    "mein_set.update({32, 653, 12, 723, 145})\n",
    "print(mein_set, type(mein_set))"
   ]
  },
  {
   "cell_type": "markdown",
   "metadata": {
    "pycharm": {
     "name": "#%% md\n"
    }
   },
   "source": [
    "**Tuple** <br>\n",
    "sind wie Listen, die nicht verändert werden können"
   ]
  },
  {
   "cell_type": "code",
   "execution_count": 10,
   "metadata": {
    "pycharm": {
     "name": "#%%\n"
    }
   },
   "outputs": [
    {
     "name": "stdout",
     "output_type": "stream",
     "text": [
      "(1, 5, 1, 4) <class 'tuple'>\n",
      "1\n",
      "4\n"
     ]
    }
   ],
   "source": [
    "mein_tuple = (1, 5, 1, 4)\n",
    "print(mein_tuple, type(mein_tuple))\n",
    "# erstes Element\n",
    "print(mein_tuple[0])\n",
    "# letztes Element\n",
    "print(mein_tuple[len(mein_tuple)-1])"
   ]
  },
  {
   "cell_type": "markdown",
   "metadata": {
    "pycharm": {
     "name": "#%% md\n"
    }
   },
   "source": [
    "**Dictionaries (aka Maps)** <br>\n",
    "sind Key/Value Paare. Keys sind einzigartig in einem dict. Values können mehrmals vorkommen."
   ]
  },
  {
   "cell_type": "code",
   "execution_count": 11,
   "metadata": {
    "pycharm": {
     "name": "#%%\n"
    }
   },
   "outputs": [
    {
     "name": "stdout",
     "output_type": "stream",
     "text": [
      "heizung\n",
      "{'cat': 'Veraenderte Katze', 'black': 'schwarz', 'wohnung': 'Haus', 'river': 'Fluss'}\n"
     ]
    }
   ],
   "source": [
    "woerter = {\"house\" : \"Haus\", \"cat\":\"Katze\", \"black\":\"schwarz\", \"wohnung\": \"Haus\", \"house\" : \"heizung\"}\n",
    "\n",
    "print(woerter[\"house\"])\n",
    "\n",
    "# es können auch Keys verändert werden\n",
    "woerter.pop(\"house\")\n",
    "woerter[\"river\"] = \"Fluss\"\n",
    "woerter[\"cat\"] = \"Veraenderte Katze\"\n",
    "\n",
    "print(woerter)"
   ]
  },
  {
   "cell_type": "markdown",
   "metadata": {},
   "source": [
    "<a id=\"ifelse\"></a>\n",
    "## If-Else Abfragen\n",
    "In Python werden Blöcke mit Einrückungen definiert. Eine Einrückung besteht aus 4 Leerzeichen.\n",
    "In C oder Java werden Blöcke in { } gekennzeichnet.\n",
    "Hinweis: Python IDEs lösen in der Regel Tab automatisch in 4 Leerzeichen auf."
   ]
  },
  {
   "cell_type": "code",
   "execution_count": 12,
   "metadata": {
    "pycharm": {
     "name": "#%%\n"
    }
   },
   "outputs": [
    {
     "name": "stdout",
     "output_type": "stream",
     "text": [
      "a groesser b\n",
      "a > b\n"
     ]
    }
   ],
   "source": [
    "a = 3 + 18\n",
    "b = 4**2\n",
    "\n",
    "if a>b:\n",
    "    print(\"a groesser b\")\n",
    "    print(\"a > b\")\n",
    "elif a<b:\n",
    "    print(\"a kleiner b\")\n",
    "    print(\"a < b\")\n",
    "else:\n",
    "    print(\"a gleich b\")\n",
    "    print(\"a == b\")\n"
   ]
  },
  {
   "cell_type": "code",
   "execution_count": 13,
   "metadata": {
    "pycharm": {
     "name": "#%%\n"
    }
   },
   "outputs": [
    {
     "name": "stdout",
     "output_type": "stream",
     "text": [
      "1 ist in der Liste\n",
      "34 ist auch in der Liste\n"
     ]
    }
   ],
   "source": [
    "elemente = [1, 34, 442 , 6, 12]\n",
    "\n",
    "if 1 in elemente:\n",
    "    print(str(1) + \" ist in der Liste\")\n",
    "    if 34 in elemente:\n",
    "        print(str(34) + \" ist auch in der Liste\")\n",
    "else:\n",
    "    print(\"Element nicht gefunden\")"
   ]
  },
  {
   "cell_type": "markdown",
   "metadata": {},
   "source": [
    "<a id=\"whileloop\"></a>\n",
    "## While Schleife"
   ]
  },
  {
   "cell_type": "code",
   "execution_count": 14,
   "metadata": {
    "pycharm": {
     "name": "#%%\n"
    }
   },
   "outputs": [
    {
     "name": "stdout",
     "output_type": "stream",
     "text": [
      "haus\n",
      "fenster\n",
      "katze\n"
     ]
    }
   ],
   "source": [
    "i = 2\n",
    "words = ['katze', 'fenster', 'haus']\n",
    "\n",
    "while i >= 0:\n",
    "    print(words[i])\n",
    "    i = i-1"
   ]
  },
  {
   "cell_type": "markdown",
   "metadata": {},
   "source": [
    "<a id=\"forloop\"></a>\n",
    "## For Schleife"
   ]
  },
  {
   "cell_type": "code",
   "execution_count": 15,
   "metadata": {
    "pycharm": {
     "name": "#%%\n"
    }
   },
   "outputs": [
    {
     "name": "stdout",
     "output_type": "stream",
     "text": [
      "katze 5\n",
      "fenster 7\n",
      "haus 4\n"
     ]
    }
   ],
   "source": [
    "words = ['katze', 'fenster', 'haus']\n",
    "for w in words:\n",
    "    print(w, len(w))"
   ]
  },
  {
   "cell_type": "markdown",
   "metadata": {},
   "source": [
    "<a id=\"range\"></a>\n",
    "## Range Operator"
   ]
  },
  {
   "cell_type": "code",
   "execution_count": 16,
   "metadata": {
    "pycharm": {
     "name": "#%%\n"
    }
   },
   "outputs": [
    {
     "name": "stdout",
     "output_type": "stream",
     "text": [
      "0\n",
      "1\n",
      "2\n",
      "3\n",
      "4\n",
      "5\n",
      "6\n",
      "7\n",
      "8\n",
      "9\n",
      "10\n",
      "11\n",
      "12\n",
      "13\n",
      "14\n"
     ]
    }
   ],
   "source": [
    "for i in range(15):\n",
    "    print(i)\n",
    "\n"
   ]
  },
  {
   "cell_type": "code",
   "execution_count": 17,
   "metadata": {},
   "outputs": [
    {
     "name": "stdout",
     "output_type": "stream",
     "text": [
      "2\n",
      "3\n",
      "4\n",
      "5\n",
      "6\n",
      "7\n"
     ]
    }
   ],
   "source": [
    "for i in range(2, 8):\n",
    "    print(i)\n"
   ]
  },
  {
   "cell_type": "code",
   "execution_count": 18,
   "metadata": {},
   "outputs": [
    {
     "name": "stdout",
     "output_type": "stream",
     "text": [
      "100\n",
      "95\n",
      "90\n",
      "85\n",
      "80\n",
      "75\n",
      "70\n",
      "65\n",
      "60\n",
      "55\n",
      "50\n",
      "45\n",
      "40\n",
      "35\n",
      "30\n",
      "25\n"
     ]
    }
   ],
   "source": [
    "for i in range(100, 20, -5):\n",
    "    print(i)"
   ]
  },
  {
   "cell_type": "markdown",
   "metadata": {},
   "source": [
    "<a id=\"functions\"></a>\n",
    "## Definition eigener Funktionen"
   ]
  },
  {
   "cell_type": "code",
   "execution_count": 19,
   "metadata": {
    "pycharm": {
     "name": "#%%\n"
    }
   },
   "outputs": [
    {
     "name": "stdout",
     "output_type": "stream",
     "text": [
      "Fibonacci:\n",
      "0\n",
      "1\n",
      "1\n",
      "2\n",
      "3\n",
      "5\n",
      "8\n",
      "13\n",
      "21\n",
      "34\n",
      "55\n",
      "89\n",
      "144\n",
      "233\n",
      "None\n",
      "Fibonacci:\n",
      "0\n",
      "1\n",
      "1\n"
     ]
    }
   ],
   "source": [
    "# Iterative Methode ohne Ausgabe\n",
    "def fib(n):\n",
    "    n1, n2 = 0, 1\n",
    "    count = 0\n",
    "\n",
    "    # Validiere die Eingaben\n",
    "    if n <= 0:\n",
    "       print(\"Falsche Eingabe!\")\n",
    "    elif n == 1:\n",
    "       print(\"Fibonacci bis\",n,\":\")\n",
    "       print(n1)\n",
    "    else:\n",
    "       print(\"Fibonacci:\")\n",
    "       while count < n:\n",
    "           print(n1)\n",
    "           nth = n1 + n2\n",
    "           # update Werte\n",
    "           n1 = n2\n",
    "           n2 = nth\n",
    "           count += 1\n",
    "\n",
    "print(fib(14))\n",
    "\n",
    "fib(3)\n"
   ]
  },
  {
   "cell_type": "code",
   "execution_count": 20,
   "metadata": {},
   "outputs": [
    {
     "name": "stdout",
     "output_type": "stream",
     "text": [
      "233\n"
     ]
    }
   ],
   "source": [
    "# Rekursive Methode mit Ausgabe\n",
    "def fib(n): \n",
    "    if n<0: \n",
    "        print(\"Falsche Eingabe!\") \n",
    "    # Erste Zahl ist 0 \n",
    "    elif n==1: \n",
    "        return 0\n",
    "    # Zweite Zahl ist 1 \n",
    "    elif n==2: \n",
    "        return 1\n",
    "    else: \n",
    "        return fib(n-1)+fib(n-2) \n",
    "\n",
    "print(fib(14))"
   ]
  },
  {
   "cell_type": "code",
   "execution_count": 21,
   "metadata": {},
   "outputs": [
    {
     "data": {
      "text/plain": [
       "29"
      ]
     },
     "execution_count": 21,
     "metadata": {},
     "output_type": "execute_result"
    }
   ],
   "source": [
    "# Methode mit mehreren Eingabeparametern\n",
    "def summe(a, b, c, d):\n",
    "    return a+b+c+d;\n",
    "summe(2, 2, 15, 10)"
   ]
  },
  {
   "cell_type": "code",
   "execution_count": null,
   "metadata": {},
   "outputs": [],
   "source": []
  },
  {
   "cell_type": "markdown",
   "metadata": {},
   "source": [
    "<a id=\"lambdas\"></a>\n",
    "## Lambdas\n",
    "Lambdas sind kleine anonyme Funktionen mit nur einem Ausdruck"
   ]
  },
  {
   "cell_type": "code",
   "execution_count": 22,
   "metadata": {
    "pycharm": {
     "name": "#%%\n"
    }
   },
   "outputs": [
    {
     "name": "stdout",
     "output_type": "stream",
     "text": [
      "33\n"
     ]
    },
    {
     "data": {
      "text/plain": [
       "32"
      ]
     },
     "execution_count": 22,
     "metadata": {},
     "output_type": "execute_result"
    }
   ],
   "source": [
    "# Lambda mit einem Parameter\n",
    "l1 = lambda a: a + 10\n",
    "print(l1(23)) \n",
    "\n",
    "def add10(n):\n",
    "    return n + 10\n",
    "add10(22)"
   ]
  },
  {
   "cell_type": "code",
   "execution_count": 48,
   "metadata": {},
   "outputs": [
    {
     "name": "stdout",
     "output_type": "stream",
     "text": [
      "4\n",
      "4.666666666666667\n",
      "5.0\n",
      "5.666666666666667\n"
     ]
    }
   ],
   "source": [
    "l = [1,3,7,5]\n",
    "\n",
    "def average(list):\n",
    "    summe = 0\n",
    "    for i  in list:\n",
    "        summe = summe + i\n",
    "    \n",
    "    return summe / len(list)\n",
    "\n",
    "average(l)\n",
    "\n",
    "lol = [[1, 5,8], [3,4,8], [5,9,3]]\n",
    "\n",
    "print(lol[1][1])\n",
    "\n",
    "for li in lol:\n",
    "    print(average(li))"
   ]
  },
  {
   "cell_type": "code",
   "execution_count": 24,
   "metadata": {},
   "outputs": [
    {
     "name": "stdout",
     "output_type": "stream",
     "text": [
      "90\n"
     ]
    }
   ],
   "source": [
    "# Lambda mit mehreren Parametern\n",
    "l2 = lambda a, b : a * b\n",
    "print(l2(15, 6)) "
   ]
  },
  {
   "cell_type": "code",
   "execution_count": 53,
   "metadata": {},
   "outputs": [
    {
     "name": "stdout",
     "output_type": "stream",
     "text": [
      "[1, 4, 9]\n",
      "[1, 4, 9]\n"
     ]
    }
   ],
   "source": [
    "liste = [1,2,3]\n",
    "\n",
    "def quad(x):\n",
    "    return x**2\n",
    "\n",
    "print(list(map(lambda x: x**2, liste)))\n",
    "print(list(map(quad, liste)))\n"
   ]
  },
  {
   "cell_type": "markdown",
   "metadata": {},
   "source": [
    "<a id=\"pandas\"></a>\n",
    "## Grundlagen in Pandas\n",
    "Hier ist eine kurze Einführung in Pandas:\n",
    "https://pandas.pydata.org/pandas-docs/stable/index.html"
   ]
  },
  {
   "cell_type": "code",
   "execution_count": 25,
   "metadata": {
    "pycharm": {
     "name": "#%%\n"
    }
   },
   "outputs": [
    {
     "data": {
      "text/plain": [
       "'1.0.1'"
      ]
     },
     "execution_count": 25,
     "metadata": {},
     "output_type": "execute_result"
    }
   ],
   "source": [
    "# dependencies importieren\n",
    "import pandas as pd\n",
    "import numpy as np\n",
    "pd.__version__"
   ]
  },
  {
   "cell_type": "code",
   "execution_count": 26,
   "metadata": {},
   "outputs": [
    {
     "name": "stdout",
     "output_type": "stream",
     "text": [
      "                   A         B         C         D\n",
      "2013-01-01 -0.924962  0.800861  1.214658  1.024044\n",
      "2013-01-02 -0.193301 -1.989758  0.589646 -0.624829\n",
      "2013-01-03 -0.888698 -0.155646  0.701099 -0.066879\n",
      "2013-01-04  0.286395 -1.064035 -0.244785 -1.037588\n",
      "2013-01-05 -1.487872  1.519862  0.545220 -1.579818\n",
      "2013-01-06  0.168537 -0.495977  0.421460  0.625400\n"
     ]
    }
   ],
   "source": [
    "# dataframe erzeugen mit numpy array\n",
    "dates = pd.date_range('20130101', periods=6)\n",
    "df = pd.DataFrame(np.random.randn(6, 4), index=dates, columns=list('ABCD'))\n",
    "print(df)"
   ]
  },
  {
   "cell_type": "code",
   "execution_count": 27,
   "metadata": {},
   "outputs": [
    {
     "name": "stdout",
     "output_type": "stream",
     "text": [
      "     A          B    C  D      E    F\n",
      "0  1.0 2013-01-02  1.0  3   test  foo\n",
      "1  1.0 2013-01-02  1.0  3  train  foo\n",
      "2  1.0 2013-01-02  1.0  3   test  foo\n",
      "3  1.0 2013-01-02  1.0  3  train  foo\n"
     ]
    }
   ],
   "source": [
    "# dataframe mit einem dict erzeugen\n",
    "df = pd.DataFrame({'A': 1., \n",
    "                   'B': pd.Timestamp('20130102'),\n",
    "                   'C': pd.Series(1, index=list(range(4)), dtype='float32'),\n",
    "                   'D': np.array([3] * 4, dtype='int32'),\n",
    "                   'E': pd.Categorical([\"test\", \"train\", \"test\", \"train\"]),\n",
    "                   'F': 'foo'})\n",
    "print(df)"
   ]
  },
  {
   "cell_type": "code",
   "execution_count": 28,
   "metadata": {},
   "outputs": [
    {
     "name": "stdout",
     "output_type": "stream",
     "text": [
      "     A          B    C  D      E    F\n",
      "0  1.0 2013-01-02  1.0  3   test  foo\n",
      "1  1.0 2013-01-02  1.0  3  train  foo\n",
      "2  1.0 2013-01-02  1.0  3   test  foo\n"
     ]
    }
   ],
   "source": [
    "# ersten drei Zeilen anzeigen\n",
    "print(df.head(3))"
   ]
  },
  {
   "cell_type": "code",
   "execution_count": 67,
   "metadata": {},
   "outputs": [
    {
     "name": "stdout",
     "output_type": "stream",
     "text": [
      "    x   y   z\n",
      "e  66  33  27\n",
      "f  77  35  11\n"
     ]
    },
    {
     "data": {
      "text/html": [
       "<div>\n",
       "<style scoped>\n",
       "    .dataframe tbody tr th:only-of-type {\n",
       "        vertical-align: middle;\n",
       "    }\n",
       "\n",
       "    .dataframe tbody tr th {\n",
       "        vertical-align: top;\n",
       "    }\n",
       "\n",
       "    .dataframe thead th {\n",
       "        text-align: right;\n",
       "    }\n",
       "</style>\n",
       "<table border=\"1\" class=\"dataframe\">\n",
       "  <thead>\n",
       "    <tr style=\"text-align: right;\">\n",
       "      <th></th>\n",
       "      <th>x</th>\n",
       "      <th>y</th>\n",
       "      <th>z</th>\n",
       "    </tr>\n",
       "  </thead>\n",
       "  <tbody>\n",
       "    <tr>\n",
       "      <th>d</th>\n",
       "      <td>55</td>\n",
       "      <td>32</td>\n",
       "      <td>22</td>\n",
       "    </tr>\n",
       "    <tr>\n",
       "      <th>e</th>\n",
       "      <td>66</td>\n",
       "      <td>33</td>\n",
       "      <td>27</td>\n",
       "    </tr>\n",
       "    <tr>\n",
       "      <th>f</th>\n",
       "      <td>77</td>\n",
       "      <td>35</td>\n",
       "      <td>11</td>\n",
       "    </tr>\n",
       "  </tbody>\n",
       "</table>\n",
       "</div>"
      ],
      "text/plain": [
       "    x   y   z\n",
       "d  55  32  22\n",
       "e  66  33  27\n",
       "f  77  35  11"
      ]
     },
     "execution_count": 67,
     "metadata": {},
     "output_type": "execute_result"
    }
   ],
   "source": [
    "# letzten zwei Zeilen anzeigen\n",
    "print(df.tail(2))\n",
    "\n",
    "def tail_df(dfr, lines):       \n",
    "    output = []\n",
    "    \n",
    "    for i in range(len(dfr) - lines, len(dfr)):\n",
    "        output.append(dfr.iloc[[i]])\n",
    "        \n",
    "    return pd.concat(output)\n",
    "    \n",
    "tail_df(df, 3)"
   ]
  },
  {
   "cell_type": "code",
   "execution_count": 30,
   "metadata": {},
   "outputs": [
    {
     "data": {
      "text/html": [
       "<div>\n",
       "<style scoped>\n",
       "    .dataframe tbody tr th:only-of-type {\n",
       "        vertical-align: middle;\n",
       "    }\n",
       "\n",
       "    .dataframe tbody tr th {\n",
       "        vertical-align: top;\n",
       "    }\n",
       "\n",
       "    .dataframe thead th {\n",
       "        text-align: right;\n",
       "    }\n",
       "</style>\n",
       "<table border=\"1\" class=\"dataframe\">\n",
       "  <thead>\n",
       "    <tr style=\"text-align: right;\">\n",
       "      <th></th>\n",
       "      <th>A</th>\n",
       "      <th>C</th>\n",
       "      <th>D</th>\n",
       "    </tr>\n",
       "  </thead>\n",
       "  <tbody>\n",
       "    <tr>\n",
       "      <th>count</th>\n",
       "      <td>4.0</td>\n",
       "      <td>4.0</td>\n",
       "      <td>4.0</td>\n",
       "    </tr>\n",
       "    <tr>\n",
       "      <th>mean</th>\n",
       "      <td>1.0</td>\n",
       "      <td>1.0</td>\n",
       "      <td>3.0</td>\n",
       "    </tr>\n",
       "    <tr>\n",
       "      <th>std</th>\n",
       "      <td>0.0</td>\n",
       "      <td>0.0</td>\n",
       "      <td>0.0</td>\n",
       "    </tr>\n",
       "    <tr>\n",
       "      <th>min</th>\n",
       "      <td>1.0</td>\n",
       "      <td>1.0</td>\n",
       "      <td>3.0</td>\n",
       "    </tr>\n",
       "    <tr>\n",
       "      <th>25%</th>\n",
       "      <td>1.0</td>\n",
       "      <td>1.0</td>\n",
       "      <td>3.0</td>\n",
       "    </tr>\n",
       "    <tr>\n",
       "      <th>50%</th>\n",
       "      <td>1.0</td>\n",
       "      <td>1.0</td>\n",
       "      <td>3.0</td>\n",
       "    </tr>\n",
       "    <tr>\n",
       "      <th>75%</th>\n",
       "      <td>1.0</td>\n",
       "      <td>1.0</td>\n",
       "      <td>3.0</td>\n",
       "    </tr>\n",
       "    <tr>\n",
       "      <th>max</th>\n",
       "      <td>1.0</td>\n",
       "      <td>1.0</td>\n",
       "      <td>3.0</td>\n",
       "    </tr>\n",
       "  </tbody>\n",
       "</table>\n",
       "</div>"
      ],
      "text/plain": [
       "         A    C    D\n",
       "count  4.0  4.0  4.0\n",
       "mean   1.0  1.0  3.0\n",
       "std    0.0  0.0  0.0\n",
       "min    1.0  1.0  3.0\n",
       "25%    1.0  1.0  3.0\n",
       "50%    1.0  1.0  3.0\n",
       "75%    1.0  1.0  3.0\n",
       "max    1.0  1.0  3.0"
      ]
     },
     "execution_count": 30,
     "metadata": {},
     "output_type": "execute_result"
    }
   ],
   "source": [
    "# Statistiken numerischer Felder\n",
    "df.describe()"
   ]
  },
  {
   "cell_type": "code",
   "execution_count": 31,
   "metadata": {},
   "outputs": [
    {
     "data": {
      "text/plain": [
       "count    4.0\n",
       "mean     1.0\n",
       "std      0.0\n",
       "min      1.0\n",
       "25%      1.0\n",
       "50%      1.0\n",
       "75%      1.0\n",
       "max      1.0\n",
       "Name: A, dtype: float64"
      ]
     },
     "execution_count": 31,
     "metadata": {},
     "output_type": "execute_result"
    }
   ],
   "source": [
    "# Projektion auf den Statistiken\n",
    "df.describe()[\"A\"]"
   ]
  },
  {
   "cell_type": "code",
   "execution_count": 32,
   "metadata": {},
   "outputs": [
    {
     "data": {
      "text/html": [
       "<div>\n",
       "<style scoped>\n",
       "    .dataframe tbody tr th:only-of-type {\n",
       "        vertical-align: middle;\n",
       "    }\n",
       "\n",
       "    .dataframe tbody tr th {\n",
       "        vertical-align: top;\n",
       "    }\n",
       "\n",
       "    .dataframe thead th {\n",
       "        text-align: right;\n",
       "    }\n",
       "</style>\n",
       "<table border=\"1\" class=\"dataframe\">\n",
       "  <thead>\n",
       "    <tr style=\"text-align: right;\">\n",
       "      <th></th>\n",
       "      <th>A</th>\n",
       "      <th>B</th>\n",
       "      <th>C</th>\n",
       "      <th>D</th>\n",
       "      <th>E</th>\n",
       "      <th>F</th>\n",
       "    </tr>\n",
       "  </thead>\n",
       "  <tbody>\n",
       "    <tr>\n",
       "      <th>0</th>\n",
       "      <td>1.0</td>\n",
       "      <td>2013-01-02</td>\n",
       "      <td>1.0</td>\n",
       "      <td>3</td>\n",
       "      <td>test</td>\n",
       "      <td>foo</td>\n",
       "    </tr>\n",
       "    <tr>\n",
       "      <th>1</th>\n",
       "      <td>1.0</td>\n",
       "      <td>2013-01-02</td>\n",
       "      <td>1.0</td>\n",
       "      <td>3</td>\n",
       "      <td>train</td>\n",
       "      <td>foo</td>\n",
       "    </tr>\n",
       "    <tr>\n",
       "      <th>2</th>\n",
       "      <td>1.0</td>\n",
       "      <td>2013-01-02</td>\n",
       "      <td>1.0</td>\n",
       "      <td>3</td>\n",
       "      <td>test</td>\n",
       "      <td>foo</td>\n",
       "    </tr>\n",
       "    <tr>\n",
       "      <th>3</th>\n",
       "      <td>1.0</td>\n",
       "      <td>2013-01-02</td>\n",
       "      <td>1.0</td>\n",
       "      <td>3</td>\n",
       "      <td>train</td>\n",
       "      <td>foo</td>\n",
       "    </tr>\n",
       "  </tbody>\n",
       "</table>\n",
       "</div>"
      ],
      "text/plain": [
       "     A          B    C  D      E    F\n",
       "0  1.0 2013-01-02  1.0  3   test  foo\n",
       "1  1.0 2013-01-02  1.0  3  train  foo\n",
       "2  1.0 2013-01-02  1.0  3   test  foo\n",
       "3  1.0 2013-01-02  1.0  3  train  foo"
      ]
     },
     "execution_count": 32,
     "metadata": {},
     "output_type": "execute_result"
    }
   ],
   "source": [
    "# Selektion\n",
    "df[df['A'] > 0]"
   ]
  },
  {
   "cell_type": "code",
   "execution_count": 33,
   "metadata": {},
   "outputs": [
    {
     "name": "stdout",
     "output_type": "stream",
     "text": [
      "     A          B    C  D      E    F\n",
      "0  1.0 2013-01-02  1.0  5   test  foo\n",
      "1  1.0 2013-01-02  1.0  5  train  foo\n",
      "2  1.0 2013-01-02  1.0  5   test  foo\n",
      "3  1.0 2013-01-02  1.0  5  train  foo\n"
     ]
    }
   ],
   "source": [
    "# Selektion nach Index und Update der Spalte\n",
    "df.loc[:, 'D'] = np.array([5] * len(df))\n",
    "print(df)"
   ]
  },
  {
   "cell_type": "code",
   "execution_count": 34,
   "metadata": {},
   "outputs": [
    {
     "name": "stdout",
     "output_type": "stream",
     "text": [
      "    x   y   z\n",
      "a  22  34  23\n",
      "b  33  31  11\n",
      "c  44  16  21\n",
      "d  55  32  22\n",
      "e  66  33  27\n",
      "f  77  35  11\n",
      "    x   y    z\n",
      "a  22  34  529\n",
      "b  33  31  121\n",
      "c  44  16  441\n",
      "d  55  32  484\n",
      "e  66  33  729\n",
      "f  77  35  121\n"
     ]
    }
   ],
   "source": [
    "# Funktionen anwenden\n",
    "\n",
    "# Liste von Tuplen\n",
    "matrix = [(22, 34, 23),\n",
    "         (33, 31, 11),\n",
    "         (44, 16, 21),\n",
    "         (55, 32, 22),\n",
    "         (66, 33, 27),\n",
    "         (77, 35, 11)\n",
    "         ]\n",
    " \n",
    "# DataFrame object erzeugen\n",
    "df = pd.DataFrame(matrix, columns=list('xyz'), index=list('abcdef'))\n",
    "print(df)\n",
    "\n",
    "# jetzt quadrieren wir alle elemente in z\n",
    "df['z'] = df['z'].apply(lambda x: x**2)\n",
    "print(df)"
   ]
  },
  {
   "cell_type": "code",
   "execution_count": 35,
   "metadata": {},
   "outputs": [
    {
     "name": "stdout",
     "output_type": "stream",
     "text": [
      "      x    y    z\n",
      "a    22   34   23\n",
      "b  1089  961  121\n",
      "c  1936  256  441\n",
      "d    55   32   22\n",
      "e    66   33   27\n",
      "f    77   35   11\n"
     ]
    }
   ],
   "source": [
    "# nur Zeile b und c quadrieren\n",
    "# Liste von Tuplen\n",
    "matrix = [(22, 34, 23),\n",
    "         (33, 31, 11),\n",
    "         (44, 16, 21),\n",
    "         (55, 32, 22),\n",
    "         (66, 33, 27),\n",
    "         (77, 35, 11)\n",
    "         ]\n",
    " \n",
    "# DataFrame object erzeugen\n",
    "df = pd.DataFrame(matrix, columns=list('xyz'), index=list('abcdef'))\n",
    "df = df.apply(lambda x: x**2 if x.name in ['b', 'c'] else x, axis=1)\n",
    "print(df)"
   ]
  },
  {
   "cell_type": "code",
   "execution_count": 36,
   "metadata": {},
   "outputs": [
    {
     "name": "stdout",
     "output_type": "stream",
     "text": [
      "4\n"
     ]
    }
   ],
   "source": [
    "var = 4 if True else 3\n",
    "print(var)"
   ]
  },
  {
   "cell_type": "markdown",
   "metadata": {},
   "source": [
    "**Nun etwas SQL auf den Pandas-Dataframes**"
   ]
  },
  {
   "cell_type": "code",
   "execution_count": 37,
   "metadata": {
    "pycharm": {
     "name": "#%%\n"
    }
   },
   "outputs": [
    {
     "name": "stdout",
     "output_type": "stream",
     "text": [
      "    x   y   z\n",
      "a  22  34  23\n",
      "b  33  31  11\n",
      "c  44  16  21\n",
      "d  55  32  22\n",
      "e  66  33  27\n",
      "f  77  35  11\n",
      "Ergebnis:\n"
     ]
    },
    {
     "data": {
      "text/plain": [
       "[('a', 22, 34, 23), ('b', 33, 31, 11)]"
      ]
     },
     "execution_count": 37,
     "metadata": {},
     "output_type": "execute_result"
    }
   ],
   "source": [
    "import sqlalchemy\n",
    "from sqlalchemy import create_engine\n",
    "\n",
    "engine = create_engine('sqlite://', echo=False)\n",
    "\n",
    "matrix = [(22, 34, 23),\n",
    "         (33, 31, 11),\n",
    "         (44, 16, 21),\n",
    "         (55, 32, 22),\n",
    "         (66, 33, 27),\n",
    "         (77, 35, 11)\n",
    "         ]\n",
    " \n",
    "# DataFrame object erzeugen\n",
    "df = pd.DataFrame(matrix, columns=list('xyz'), index=list('abcdef'))\n",
    "print(df)\n",
    "\n",
    "df.to_sql('numbers', con=engine)\n",
    "print(\"Ergebnis:\")\n",
    "engine.execute(\"SELECT * FROM numbers WHERE x<35 AND y > 30\").fetchall()"
   ]
  },
  {
   "cell_type": "markdown",
   "metadata": {},
   "source": [
    "<div style=\"height: 500px\" />"
   ]
  },
  {
   "cell_type": "code",
   "execution_count": 41,
   "metadata": {},
   "outputs": [
    {
     "data": {
      "text/plain": [
       "[1, 'a']"
      ]
     },
     "execution_count": 41,
     "metadata": {},
     "output_type": "execute_result"
    }
   ],
   "source": [
    "[1, \"a\"]"
   ]
  },
  {
   "cell_type": "code",
   "execution_count": 44,
   "metadata": {},
   "outputs": [
    {
     "data": {
      "text/plain": [
       "(1, 'a', 1, 2, 45)"
      ]
     },
     "execution_count": 44,
     "metadata": {},
     "output_type": "execute_result"
    }
   ],
   "source": [
    "(1, \"a\", 1, 2, 45)"
   ]
  },
  {
   "cell_type": "code",
   "execution_count": 43,
   "metadata": {},
   "outputs": [
    {
     "data": {
      "text/plain": [
       "{1, 'a'}"
      ]
     },
     "execution_count": 43,
     "metadata": {},
     "output_type": "execute_result"
    }
   ],
   "source": [
    "{1, \"a\"}"
   ]
  },
  {
   "cell_type": "code",
   "execution_count": null,
   "metadata": {},
   "outputs": [],
   "source": []
  }
 ],
 "metadata": {
  "kernelspec": {
   "display_name": "Python 3",
   "language": "python",
   "name": "python3"
  },
  "language_info": {
   "codemirror_mode": {
    "name": "ipython",
    "version": 3
   },
   "file_extension": ".py",
   "mimetype": "text/x-python",
   "name": "python",
   "nbconvert_exporter": "python",
   "pygments_lexer": "ipython3",
   "version": "3.7.6"
  }
 },
 "nbformat": 4,
 "nbformat_minor": 1
}
