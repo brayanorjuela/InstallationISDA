{
 "cells": [
  {
   "cell_type": "markdown",
   "metadata": {
    "pycharm": {
     "name": "#%% md\n"
    }
   },
   "source": [
    "# Python Grundlagen\n",
    "\n",
    "Ziel dieser Übung ist es die folgenden Grundlagen zu Python und Jupyter zu vermitteln:\n",
    " - [Code kommentieren](#commenting)\n",
    " - [Deklaration von Variablen](#variablen)\n",
    " - [Arithmetische Operationen](#arithmetik)\n",
    " - [Namenskonventionen](#naming)\n",
    " - [Listen, Sets, Tuple, Dictionaries](#datatypes)\n",
    " - [If-Else Abfragen](#ifelse)\n",
    " - [For Schleife](#forloop)\n",
    " - [Range Operator](#range)\n",
    " - [Definition eigener Funktionen](#functions)\n",
    " - [Lambdas](#lambdas)\n",
    " - [Grundlagen in Pandas](#pandas)\n",
    "\n",
    "Dieses Material wird im Rahmen der Lehrveranstaltung _Informationssysteme und Datenanalyse_ von der\n",
    "Gruppe [Database Systems and Information Management](https://www.dima.tu-berlin.de/menue/database_systems_and_information_management_group) (DIMA) der TU Berlin zur Verfügung gestellt.\n"
   ]
  },
  {
   "cell_type": "markdown",
   "metadata": {
    "pycharm": {
     "name": "#%% md\n"
    }
   },
   "source": [
    "<a id=\"commenting\"></a>\n",
    "## Code kommentieren"
   ]
  },
  {
   "cell_type": "code",
   "execution_count": 13,
   "metadata": {
    "pycharm": {
     "name": "#%%\n"
    }
   },
   "outputs": [
    {
     "name": "stdout",
     "output_type": "stream",
     "text": [
      "hello world\n"
     ]
    }
   ],
   "source": [
    "# dies ist ein einzeiliger Kommentar\n",
    "print('hello world') # Zeichen nach dem \"#\" Symbol werden vom Python Interpreter ignoriert\n"
   ]
  },
  {
   "cell_type": "code",
   "execution_count": 14,
   "metadata": {
    "pycharm": {
     "name": "#%%\n"
    }
   },
   "outputs": [
    {
     "name": "stdout",
     "output_type": "stream",
     "text": [
      "hello world\n"
     ]
    }
   ],
   "source": [
    "\"\"\"\n",
    "Ein Kommentar \n",
    "über\n",
    "mehrere \n",
    "Zeilen.\n",
    "\"\"\"\n",
    "print(\"hello world\")\n",
    "\n"
   ]
  },
  {
   "cell_type": "markdown",
   "metadata": {},
   "source": [
    "<a id=\"variablen\"></a>\n",
    "## Deklaration von Variablen\n",
    "\n",
    "Variablen können beliebige Werte annehmen. Typ oder Größe müssen nicht vorher definiert werden.\n",
    "Python differenziert zwischen Groß- und Kleinschreibung und benötigt, anders als bei Java oder C, kein Semikolon am Ende eines Befehls.\n",
    "\n",
    "Die Variable, die den Wert annehmen soll, steht auf der linken Seite. Der neue Wert der Variable steht auf der rechten Seite."
   ]
  },
  {
   "cell_type": "code",
   "execution_count": 39,
   "metadata": {
    "pycharm": {
     "name": "#%%\n"
    }
   },
   "outputs": [
    {
     "name": "stdout",
     "output_type": "stream",
     "text": [
      "3 <class 'int'>\n",
      "3.0 <class 'float'>\n",
      "Hello <class 'str'>\n",
      "World! <class 'str'>\n",
      "23.5 <class 'float'>\n"
     ]
    }
   ],
   "source": [
    "x = 3 # integer\n",
    "y = 3. # floating point number\n",
    "z = \"Hello\" # ein string definiert mit \"\"\n",
    "# ein string, in der Variablen Z definiert mit ''\n",
    "Z = 'World!'\n",
    "\n",
    "print(x, type(x))\n",
    "print(y, type(y))\n",
    "print(z, type(z))\n",
    "print(Z, type(Z))\n",
    "\n",
    "Z = 23.5\n",
    "print(Z, type(Z))"
   ]
  },
  {
   "cell_type": "code",
   "execution_count": 53,
   "outputs": [
    {
     "name": "stdout",
     "output_type": "stream",
     "text": [
      "False <class 'bool'>\n",
      "True <class 'bool'>\n"
     ]
    }
   ],
   "source": [
    "# bool Werte werden mit False oder True deklariert\n",
    "f = False\n",
    "t = True\n",
    "\n",
    "print(f, type(f))\n",
    "print(t, type(t))"
   ],
   "metadata": {
    "collapsed": false,
    "pycharm": {
     "name": "#%%\n"
    }
   }
  },
  {
   "cell_type": "markdown",
   "metadata": {},
   "source": [
    "<a id=\"arithmetik\"></a>\n",
    "## Arithmetische Operationen"
   ]
  },
  {
   "cell_type": "code",
   "execution_count": 43,
   "metadata": {
    "pycharm": {
     "name": "#%%\n"
    }
   },
   "outputs": [
    {
     "name": "stdout",
     "output_type": "stream",
     "text": [
      "Summe :  8\n",
      "Differenz :  2\n",
      "Produkt :  15\n",
      "Potenz :  125\n",
      "Modulo :  2\n",
      "Floor Division :  1\n",
      "Float Division :  1.6666666666666667\n"
     ]
    },
    {
     "data": {
      "text/plain": "float"
     },
     "execution_count": 43,
     "metadata": {},
     "output_type": "execute_result"
    }
   ],
   "source": [
    "i = 5\n",
    "j = 3\n",
    "print(\"Summe : \", i+j)\n",
    "print(\"Differenz : \" , i-j)\n",
    "print(\"Produkt : \" , i*j)\n",
    "print(\"Potenz : \", i**j)\n",
    "print(\"Modulo : \" , i%j)\n",
    "print(\"Floor Division : \" , i//j)\n",
    "print(\"Float Division : \" , i/j)\n",
    "result = i/j\n",
    "type(result)\n"
   ]
  },
  {
   "cell_type": "markdown",
   "metadata": {},
   "source": [
    "<a id=\"naming\"></a>\n",
    "## Namenskonventionen\n",
    "\n",
    "Ein gängiger Guide zu korrektem Code Style sind die Vorgaben von PEP8:\n",
    "https://www.python.org/dev/peps/pep-0008/\n",
    "\n",
    "Variablen und Funktionen sollten folgende Konvention beachten: <br>\n",
    "snake_case <br>\n",
    "lower_case_with_underscore\n",
    "\n",
    "Allerdings wird auch **camelCase** häufiger gesehen.\n",
    "\n"
   ]
  },
  {
   "cell_type": "code",
   "execution_count": 51,
   "metadata": {
    "pycharm": {
     "name": "#%%\n"
    }
   },
   "outputs": [
    {
     "name": "stdout",
     "output_type": "stream",
     "text": [
      "hallo123\n",
      "hallo345\n",
      "hallo567\n"
     ]
    }
   ],
   "source": [
    "# snake_case\n",
    "mein_string = \"hallo123\"\n",
    "mein_zweiter_string = \"hallo345\"\n",
    "meinDritterString = \"hallo567\"\n",
    "\n",
    "print(mein_string)\n",
    "print(mein_zweiter_string)\n",
    "print(meinDritterString)\n"
   ]
  },
  {
   "cell_type": "markdown",
   "metadata": {},
   "source": [
    "<a id=\"datatypes\"></a>\n",
    "## Listen, Sets, Tuple, Dictionaries\n",
    "**Listen** <br> sind Sammlungen von Elementen und behalten die Reihenfolge bei. Listen haben eine variable Größe."
   ]
  },
  {
   "cell_type": "code",
   "execution_count": 80,
   "metadata": {
    "pycharm": {
     "name": "#%%\n"
    }
   },
   "outputs": [
    {
     "name": "stdout",
     "output_type": "stream",
     "text": [
      "[87, 43, 1, 4, 321, 5, 2, 21, 1, 32, 1, 43] <class 'list'>\n",
      "[87, 43, 1, 4, 321, 5, 2, 21, 1, 32, 1, 43, 43] <class 'list'>\n",
      "[87, 43, 1, 4, 321, 5, 2, 21, 1, 32, 1, 43, 43, 34, 21, 74, 146] <class 'list'>\n"
     ]
    }
   ],
   "source": [
    "meine_liste = [87, 43, 1, 4, 321, 5, 2, 21, 1, 32, 1, 43]\n",
    "print(meine_liste, type(meine_liste))\n",
    "\n",
    "#Einfügen von einem Element in eine Liste\n",
    "meine_liste.append(43)\n",
    "print(meine_liste, type(meine_liste))\n",
    "\n",
    "#Zusammenführen von zwei Listen\n",
    "meine_liste.extend([34, 21, 74, 146])\n",
    "print(meine_liste, type(meine_liste))"
   ]
  },
  {
   "cell_type": "markdown",
   "source": [
    "**Sets** <br> sind unsortiere, duplikat-freie Sammlungen von Elementen."
   ],
   "metadata": {
    "collapsed": false,
    "pycharm": {
     "name": "#%% md\n"
    }
   }
  },
  {
   "cell_type": "code",
   "execution_count": 81,
   "outputs": [
    {
     "name": "stdout",
     "output_type": "stream",
     "text": [
      "{32, 321, 1, 2, 4, 5, 43, 21, 87} <class 'set'>\n",
      "{32, 321, 1, 2, 4, 5, 43, 21, 87, 56} <class 'set'>\n",
      "{32, 321, 1, 2, 4, 5, 43, 12, 653, 145, 723, 21, 87, 56} <class 'set'>\n"
     ]
    }
   ],
   "source": [
    "mein_set = {87, 43, 1, 4, 321, 5, 2, 21, 1, 32, 1, 43}\n",
    "print(mein_set, type(mein_set))\n",
    "\n",
    "# hinzüfügen eines Elementes\n",
    "mein_set.add(56)\n",
    "print(mein_set, type(mein_set))\n",
    "\n",
    "# zusammenführen von zwei Sets\n",
    "mein_set.update({32, 653, 12, 723, 145})\n",
    "print(mein_set, type(mein_set))"
   ],
   "metadata": {
    "collapsed": false,
    "pycharm": {
     "name": "#%%\n"
    }
   }
  },
  {
   "cell_type": "markdown",
   "source": [
    "**Tuple** <br>\n",
    "sind wie Listen, die nicht verändert werden können"
   ],
   "metadata": {
    "collapsed": false,
    "pycharm": {
     "name": "#%% md\n"
    }
   }
  },
  {
   "cell_type": "code",
   "execution_count": 83,
   "outputs": [
    {
     "name": "stdout",
     "output_type": "stream",
     "text": [
      "(1, 5, 1, 4) <class 'tuple'>\n"
     ]
    }
   ],
   "source": [
    "mein_tuple = (1, 5, 1, 4)\n",
    "print(mein_tuple, type(mein_tuple))"
   ],
   "metadata": {
    "collapsed": false,
    "pycharm": {
     "name": "#%%\n"
    }
   }
  },
  {
   "cell_type": "markdown",
   "source": [
    "**Dictionaries (aka Maps)** <br>\n",
    "sind Key/Value Paare. Keys sind einzigartig in einem dict. Values können mehrmals vorkommen."
   ],
   "metadata": {
    "collapsed": false,
    "pycharm": {
     "name": "#%% md\n"
    }
   }
  },
  {
   "cell_type": "code",
   "execution_count": 89,
   "outputs": [
    {
     "name": "stdout",
     "output_type": "stream",
     "text": [
      "Haus\n",
      "{'cat': 'Veraenderte Katze', 'black': 'schwarz', 'river': 'Fluss'}\n"
     ]
    }
   ],
   "source": [
    "woerter = {\"house\" : \"Haus\", \"cat\":\"Katze\", \"black\":\"schwarz\"}\n",
    "\n",
    "print(woerter[\"house\"])\n",
    "\n",
    "# es können auch Elemente verändert werden\n",
    "woerter.pop(\"house\")\n",
    "woerter[\"river\"] = \"Fluss\"\n",
    "woerter[\"cat\"] = \"Veraenderte Katze\"\n",
    "\n",
    "print(woerter)"
   ],
   "metadata": {
    "collapsed": false,
    "pycharm": {
     "name": "#%%\n"
    }
   }
  },
  {
   "cell_type": "markdown",
   "metadata": {},
   "source": [
    "<a id=\"ifelse\"></a>\n",
    "## If-Else Abfragen"
   ]
  },
  {
   "cell_type": "code",
   "execution_count": 19,
   "metadata": {
    "pycharm": {
     "name": "#%%\n"
    }
   },
   "outputs": [
    {
     "name": "stdout",
     "output_type": "stream",
     "text": [
      "hello world\n"
     ]
    }
   ],
   "source": [
    "# dies ist ein einzeiliger Kommentar\n",
    "print('hello world') # ein Kommentar nach dem \"#\" Symbol wird vom Python Interpreter ignoriert\n"
   ]
  },
  {
   "cell_type": "markdown",
   "metadata": {},
   "source": [
    "<a id=\"forloop\"></a>\n",
    "## For Schleife"
   ]
  },
  {
   "cell_type": "code",
   "execution_count": 20,
   "metadata": {
    "pycharm": {
     "name": "#%%\n"
    }
   },
   "outputs": [
    {
     "name": "stdout",
     "output_type": "stream",
     "text": [
      "hello world\n"
     ]
    }
   ],
   "source": [
    "# dies ist ein einzeiliger Kommentar\n",
    "print('hello world') # ein Kommentar nach dem \"#\" Symbol wird vom Python Interpreter ignoriert\n"
   ]
  },
  {
   "cell_type": "markdown",
   "metadata": {},
   "source": [
    "<a id=\"range\"></a>\n",
    "## Range Operator"
   ]
  },
  {
   "cell_type": "code",
   "execution_count": 21,
   "metadata": {
    "pycharm": {
     "name": "#%%\n"
    }
   },
   "outputs": [
    {
     "name": "stdout",
     "output_type": "stream",
     "text": [
      "hello world\n"
     ]
    }
   ],
   "source": [
    "# dies ist ein einzeiliger Kommentar\n",
    "print('hello world') # ein Kommentar nach dem \"#\" Symbol wird vom Python Interpreter ignoriert\n",
    "\n",
    "\n"
   ]
  },
  {
   "cell_type": "markdown",
   "metadata": {},
   "source": [
    "<a id=\"functions\"></a>\n",
    "## Definition eigener Funktionen"
   ]
  },
  {
   "cell_type": "code",
   "execution_count": 22,
   "metadata": {
    "pycharm": {
     "name": "#%%\n"
    }
   },
   "outputs": [
    {
     "name": "stdout",
     "output_type": "stream",
     "text": [
      "hello world\n"
     ]
    }
   ],
   "source": [
    "# dies ist ein einzeiliger Kommentar\n",
    "print('hello world') # ein Kommentar nach dem \"#\" Symbol wird vom Python Interpreter ignoriert\n",
    "\n"
   ]
  },
  {
   "cell_type": "markdown",
   "metadata": {},
   "source": [
    "<a id=\"lambdas\"></a>\n",
    "## Lambdas"
   ]
  },
  {
   "cell_type": "code",
   "execution_count": 23,
   "metadata": {
    "pycharm": {
     "name": "#%%\n"
    }
   },
   "outputs": [
    {
     "name": "stdout",
     "output_type": "stream",
     "text": [
      "hello world\n"
     ]
    }
   ],
   "source": [
    "# dies ist ein einzeiliger Kommentar\n",
    "print('hello world') # ein Kommentar nach dem \"#\" Symbol wird vom Python Interpreter ignoriert\n",
    "\n",
    "\n"
   ]
  },
  {
   "cell_type": "markdown",
   "metadata": {},
   "source": [
    "<a id=\"pandas\"></a>\n",
    "## Grundlagen in Pandas"
   ]
  },
  {
   "cell_type": "code",
   "execution_count": 24,
   "metadata": {
    "pycharm": {
     "name": "#%%\n"
    }
   },
   "outputs": [
    {
     "name": "stdout",
     "output_type": "stream",
     "text": [
      "hello world\n"
     ]
    }
   ],
   "source": [
    "# dies ist ein einzeiliger Kommentar\n",
    "print('hello world') # ein Kommentar nach dem \"#\" Symbol wird vom Python Interpreter ignoriert"
   ]
  },
  {
   "cell_type": "code",
   "execution_count": null,
   "metadata": {},
   "outputs": [],
   "source": []
  },
  {
   "cell_type": "code",
   "execution_count": null,
   "metadata": {},
   "outputs": [],
   "source": []
  }
 ],
 "metadata": {
  "kernelspec": {
   "display_name": "Python 3",
   "language": "python",
   "name": "python3"
  },
  "language_info": {
   "codemirror_mode": {
    "name": "ipython",
    "version": 3
   },
   "file_extension": ".py",
   "mimetype": "text/x-python",
   "name": "python",
   "nbconvert_exporter": "python",
   "pygments_lexer": "ipython3",
   "version": "3.7.6"
  }
 },
 "nbformat": 4,
 "nbformat_minor": 1
}