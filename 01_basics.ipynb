{
 "cells": [
  {
   "cell_type": "markdown",
   "metadata": {
    "pycharm": {
     "name": "#%% md\n"
    }
   },
   "source": [
    "# Python Grundlagen\n",
    "\n",
    "Ziel dieser Übung ist es die folgenden Grundlagen zu Python und Jupyter zu vermitteln:\n",
    " - Code vs Kommentare\n",
    " - Deklaration von Variablen\n",
    " - Printing\n",
    " - Arithmetische Operationen\n",
    " - Namenskonventionen\n",
    " - Grundlegende Datentypen (strings, listen, dicts)\n",
    " - If-Else Abfragen\n",
    " - For Schleife\n",
    " - Range Operator\n",
    " - Definition eigener Funktionen\n",
    " - Lambdas\n",
    " - Grundlagen in Pandas\n",
    "\n",
    "Dieses Material wird ausschließlich im Rahmen der Lehrveranstaltung _Informationssysteme und Datenanalyse_ von der\n",
    "Gruppe [Database Systems and Information Management](https://www.dima.tu-berlin.de/menue/database_systems_and_information_management_group) (DIMA) der TU Berlin zur Verfügung gestellt.\n",
    "\n",
    "## Code vs Kommentare\n"
   ]
  },
  {
   "cell_type": "code",
   "execution_count": 4,
   "outputs": [
    {
     "name": "stdout",
     "output_type": "stream",
     "text": [
      "hello world\n"
     ]
    }
   ],
   "source": [
    "# this is a single-line comment\n",
    "print('hello world') # this is also a comment starting from the \"#\" symbol: it is ignored by the Python interpreter\n"
   ],
   "metadata": {
    "collapsed": false,
    "pycharm": {
     "name": "#%%\n"
    }
   }
  },
  {
   "cell_type": "code",
   "execution_count": 5,
   "outputs": [
    {
     "name": "stdout",
     "output_type": "stream",
     "text": [
      "hello world\n"
     ]
    }
   ],
   "source": [
    "\"\"\"\n",
    "This is a comment spanning\n",
    "multiple\n",
    "lines.\n",
    "\"\"\"\n",
    "print(\"hello world\")\n"
   ],
   "metadata": {
    "collapsed": false,
    "pycharm": {
     "name": "#%%\n"
    }
   }
  }
 ],
 "metadata": {
  "kernelspec": {
   "display_name": "Python 3",
   "language": "python",
   "name": "python3"
  },
  "language_info": {
   "codemirror_mode": {
    "name": "ipython",
    "version": 3
   },
   "file_extension": ".py",
   "mimetype": "text/x-python",
   "name": "python",
   "nbconvert_exporter": "python",
   "pygments_lexer": "ipython3",
   "version": "3.7.6"
  }
 },
 "nbformat": 4,
 "nbformat_minor": 1
}