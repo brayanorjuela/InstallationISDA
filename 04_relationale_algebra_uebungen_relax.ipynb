{
 "cells": [
  {
   "cell_type": "markdown",
   "metadata": {},
   "source": [
    "## Aufgaben im Relax Web-tool bearbeiten\n",
    "<p>\n",
    "<span>Gegeben seien folgende Relationen</span><br>\n",
    "<img src=\"resources/04_relationale_algebra/regatta.png\">\n",
    "</p>\n"
   ]
  },
  {
   "cell_type": "markdown",
   "metadata": {},
   "source": [
    "<span>Formulieren Sie die folgenden textuellen Anfragen zur angegebenen Regatta Datenbank mit Hilfe der Relationen Algebra.</span>\n",
    "<ol type=\"1\">\n",
    "    <li>Aus welchem Material wurde das Boot mit der Segelnummer „GER4318“ gebaut und welcher Klasse gehört es an?</li>\n",
    "    <li>Wann starteten die Teilnehmer am „29.5.03“ und welche Boote der Klasse „Optimist“ nahmen an dieser Regatta teil?</li>\n",
    "    <li>An welchen Regatten haben ausschließlich Holzboote teilgenommen?</li>\n",
    "    <li>Welche Bootsklassen nehmen am „Franz Huber Gedenk Preis“ oder am „Moorpokal“ teil?</li>\n",
    "    <li>Welche Boote konnten das Rennen um das „Blaue Band“ nicht beenden („dnf“)? </li>\n",
    "    <li>Wie viele Boote haben am „Franz Huber Gedenk Preis“ teilgenommen?</li>\n",
    "    <li>An welchem Rennen nahm das älteste Boot im Starterfeld teil? </li>\n",
    "</ol>\n"
   ]
  },
  {
   "cell_type": "code",
   "execution_count": null,
   "metadata": {
    "slideshow": {
     "slide_type": "-"
    }
   },
   "outputs": [],
   "source": [
    "\n",
    "%%html\n",
    "<iframe src=\"https://dbis-uibk.github.io/relax/calc.htm?data=gist:e51c9b802654b94d2b308b995e733661\" width=\"950\" height=\"800\"></iframe>\n"
   ]
  },
  {
   "cell_type": "markdown",
   "metadata": {
    "pycharm": {
     "name": "#%% md\n"
    }
   },
   "source": [
    "<span>Geben Sie das Ergebnis und die umgangssprachliche Formulierung der folgenden Relationen Algebra Ausdrücke an:</span>\n",
    "\n",
    "![title](resources/04_relationale_algebra/Ausdruck1.png)\n",
    "\n",
    "\n",
    "![title](resources/04_relationale_algebra/Ausdruck2.png)\n",
    "\n",
    "\n",
    "![title](resources/04_relationale_algebra/Ausdruck3.png)\n",
    "\n",
    "\n"
   ]
  }
 ],
 "metadata": {
  "celltoolbar": "Slideshow",
  "kernelspec": {
   "display_name": "Python 3",
   "language": "python",
   "name": "python3"
  },
  "language_info": {
   "codemirror_mode": {
    "name": "ipython",
    "version": 3
   },
   "file_extension": ".py",
   "mimetype": "text/x-python",
   "name": "python",
   "nbconvert_exporter": "python",
   "pygments_lexer": "ipython3"
  }
 },
 "nbformat": 4,
 "nbformat_minor": 2
}
