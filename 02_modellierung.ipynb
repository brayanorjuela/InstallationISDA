{
 "cells": [
  {
   "cell_type": "markdown",
   "metadata": {},
   "source": [
    "# Modellierung"
   ]
  },
  {
   "cell_type": "markdown",
   "metadata": {},
   "source": [
    "## Entity-Relationship-Modelle\n"
   ]
  },
  {
   "cell_type": "markdown",
   "metadata": {},
   "source": [
    "### Erstelle ER-Modelle für die folgenden Texte\n",
    "\n",
    "1. Gegeben seien die folgenden Sätze:\n",
    "    + Ein Buch hat eine ISBN, ein Erscheinungsdatum und kann mehrere Autoren besitzen.\n",
    "    + Autoren haben eine eMail und einen Namen.\n",
    "    + Bücher haben zudem ein Alter welches sich aus dem Erscheinungsdatum berechnen lässt.\n",
    "\n",
    "\n",
    "2. Löse die Folgenden Aufgaben mit den Sätzen aus 1.:\n",
    "    1. Modelliere zuerst ohne Nutzung von Relationship-Typen.\n",
    "    2. Welches der Attribute ist ein geeigneter Schlüssel und wieso?\n",
    "    3. Modelliere ohne Nutzung von komplexen Attributen.\n",
    "\n",
    "\n",
    "3. Ein Modul, welches einen Namen besitzt, kann von mehreren Professoren gehalten werden. Professoren haben einen Namen und eine E-Mail. Jedes Modul hat genau einen Verantwortlichen Professor. Verschiedene Professoren können Module in unterschiedlichen Räumen halten.\n",
    "\n",
    "\n",
    "4. Filme, welche einen Namen und ein Jahr haben, können einen Nachfolger und Vorgänger besitzen.\n",
    "\n",
    "\n",
    "5. Firmen haben eine Adresse, eine Telefonummer und produzieren Hüte, welche einen bestimmten Stil haben, mit verschiedenen Materialien. Eine Eigenschaft von Materialien ist deren Farbe. Modelliere dies auf zwei verschiedenen Wegen.\n",
    "\n",
    "\n",
    "6. Gebäude, welche ein Baujahr und eine Adresse haben, besitzen Räume eines bestimmten Typs.\n",
    "    1. Modelliere ohne schwachen Entity-Typen.\n",
    "    2. Modelliere unter Verwendung eines schwachen Entity-Typen.\n"
   ]
  },
  {
   "cell_type": "markdown",
   "metadata": {},
   "source": [
    "## Erweiterte Entity-Relationship-Modelle"
   ]
  },
  {
   "cell_type": "markdown",
   "metadata": {},
   "source": [
    "<ol start=\"1\">\n",
    "    <li>Nutze das Konzept der Generalisierung/Spezialisierung und Aggregation, um folgendes Modell zu vereinfachen.</li><br>\n",
    "    <img src=\"resources/02-03_modellierung/Tut02_7_aufg.png\"><br>\n",
    "    <li>Alle Personen sind Angestellte, Kunden und/oder Studenten. Alle Personen haben ein Eindeutiges Kennzeichen und einen Namen. Studenten haben eine übrige Studiendauer. Kunden können Produkte zu einem bestimmten Preis kaufen. Der Preis eines Produktes kann variieren (z.B. durch Angebote).</li><br>\n",
    "    <li>Überprüfe das folgende ER-Diagramm auf syntaktische Korrektheit und korrigiere die Fehler.</li>\n",
    "    <img src=\"resources/02-03_modellierung/Tut02_09.png\"><br>  \n",
    "     <li>Beschreibe das Modell in Worten.</li><br>\n",
    "    <img src=\"resources/02-03_modellierung/Tut02_extra01.png\"><br>\n",
    "</ol>\n"
   ]
  },
  {
   "cell_type": "markdown",
   "metadata": {},
   "source": [
    "## Instanzen\n",
    "\n",
    "### Bilde den folgenden Text als ER-Diagramm ab und bilde die dazugehörigen Instanzen"
   ]
  },
  {
   "cell_type": "markdown",
   "metadata": {},
   "source": [
    "Die Fakultäten 4 (EECS) und 6 (PBU) betreuen jeweils verschiedene Studiengänge. So betreut EECS z.B. die Studiengänge Informatik und Wirtschafts Informatik während PBU Stadtplanung betreut. Die Studiengänge haben alle jeweils einen Nummerus Clausus so wie eine Regelstudienzeit.\n",
    "Naturwissenschaften wie Mathe oder Physik werden von der Fakultät 2 (MaNa) betreut."
   ]
  },
  {
   "cell_type": "markdown",
   "metadata": {},
   "source": [
    "## Aufgabe: Kinogruppe"
   ]
  },
  {
   "cell_type": "markdown",
   "metadata": {},
   "source": [
    "### Aufgabentext\n",
    "\n",
    "Erstellen Sie ein vollständiges (E)E/R Modell zu folgender Situtation. Denken Sie sich gegebenfalls geeignete Attribute, Entities und Kardinalitäten logisch aus."
   ]
  },
  {
   "cell_type": "markdown",
   "metadata": {},
   "source": [
    "**Sprechblasen**\n",
    "\n",
    "![Sprechblasen](resources/02-03_modellierung/Speechbubbles.png)"
   ]
  },
  {
   "cell_type": "markdown",
   "metadata": {},
   "source": [
    "**Kinoplan**\n",
    "\n",
    "![Kinoplan](resources/02-03_modellierung/Floorplan.png)"
   ]
  },
  {
   "cell_type": "markdown",
   "metadata": {},
   "source": [
    "## Aufgabe: Bibliotheksmanagementsystem\n"
   ]
  },
  {
   "cell_type": "markdown",
   "metadata": {},
   "source": [
    "### Aufgabentext\n",
    "\n",
    "Die öffentlichen Stadtbüchereien in Berlin sollen durch ein Informationssystem unterstützt werden:\n",
    "\n",
    "Bücher können von jedem Bürger, der seinen Wohnort in Berlin hat (der Personalausweis muss dies ausweisen) und in der Bibliothek als Benutzer registriert ist, ausgeliehen werden. Dazu erhält jeder Bibliotheksbenutzer eine Nummer, die auf dem bei der Registrierung erstellten Bibliotheksausweis vermerkt ist. Außerdem werden der Name, die Anschrift und eine Telefonnummer (Festnetz oder mobil) gespeichert. Für Mitarbeiter der Stadtverwaltung werden zusätzlich deren Personalnummer, Dienststelle und Telefonnummer ihres Arbeitsplatzes vermerkt. Auch Kinder unter 12 Jahren und Jugendliche unter 18 Jahren dürfen Bibliotheksnutzer werden; allerdings muss der Name eines Elternteils zusätzlich angegeben werden und das entsprechende Elternteil muss bei der Registrierung des Kindes/Jugendliche(n) für diese(s)(n) unterschreiben.\n",
    "\n",
    "Weiterhin wird für jeden Nutzer, außer für die Mitarbeiter der Stadtverwaltung, ein Mahnkonto eingeführt. Wer mehr als 20.- EURO auf seinem Mahnkonto zu stehen hat, kann nichts mehr ausleihen.\n",
    "\n",
    "Neben den Monographien, d.h. richtigen Büchern, die durch Autor(en), Titel, Verlag, Jahr und ISBN-Angabe qualifiziert werden, werden auch Zeitschriften, die neben Titel, Verlag, Jahr und ISSN-Angabe durch den Heraäusgeber (ggf. mehrere) sowie durch Erscheinungsjahr und -monat sowie die Angaben Nummer und Ausgabe charakterisiert werden, in der Bibliothek angeboten. Darüber hinaus bieten die Stadtbüchereien auch andere Medien zur Ausleihe an: Musik-CDs, Video-DVDs und VHS-Videobänder. All diese Medien sind charakterisiert durch Titel und (Spiel-)Dauer,sowie eine spezielle Medien-ID. Über Musik-CDs wird Information über die enthaltenen Stücke und Musiker gehalten, wohingegen für Videofilme der Regisseur und die Liste der Schauspieler gespeichert wird. Für DVDs werden die Formate R+ oder R-- benötigt, für VHS das Farbsystem (PAL oder SECAM). Für alle Videos existiert eine Angabe, ob dieser Film für Kinder zugelassen ist (keine Einschränkung), oder beschränkt auf Jugendliche ab 12 Jahren, oder nur zugelassen für Erwachsene. Leider gab es in der Vergangenheit viele Schäden (Kratzer) aus der Ausleihe bei den CDs und DVDs an Kinder und Jugendliche, weshalb diese Medien nur an Erwachsene verliehen werden.\n",
    "\n",
    "Für alle ausleihbaren Objekte vergibt die Bibliothek außerdem eine eindeutige Signatur und vermerkt das Anschaffungsdatum.\n",
    "\n",
    "Wird ein Objekt aus einer Stadtbücherei ausgeliehen, so wird der jeweilige Entleiher, das Datum des Ausleihtages sowie das festgesetzte Rückgabedatum vermerkt, um gegebenenfalls Mahnungen verschicken zu können. Bücher können durch Interessenten vorbestellt werden, was dann eine Verlängerung der gerade laufenden Ausleihe unmöglich macht. Das Datum der Vorbestellung ist zu notieren, damit eine Reihenfolge ermittelt werden kann, falls mehrere Bestellungen für dasselbe Buch erfolgen. Alle nicht vorbestellten Bücher können für eine weitere Leihperiode verlängert werden, allerdings höchstens zweimal (d.h. max. 3 Leihperioden). Personen unter 18 Jahren dürfen nur max. 10 Objekte gleichzeitig ausleihen, Erwachsene max. 20 Objekte. Nur Stadtbedienstete dürfen beliebig viele Objekte ausleihen.\n"
   ]
  },
  {
   "cell_type": "markdown",
   "metadata": {},
   "source": [
    "### Aufgaben\n",
    "\n",
    "+ Erstellen Sie ein erweitertes Entity-Relationship-Diagramm auf Grundlage des gegebenen Textes.\n",
    "+ Notieren Sie sich dabei parallel die Schrittfolge, in der Sie vorgegangen sind.\n",
    "+ Begründen Sie, warum Sie ein bestimmtes Abstraktionskonzept benutzt haben. Gehen Sie insbesondere auf die Eigenschaften des Abstraktionskonzepts ein.\n",
    "+ Nennen Sie die Eigenschaften, die Sie nicht in diesem EER-Modell abbilden können.\n",
    "+ Reflektieren Sie Ihre Vorgehensweise. Welche Schritte hätten Sie vertauschen können / sollen?"
   ]
  },
  {
   "cell_type": "markdown",
   "metadata": {},
   "source": [
    "## Aufgabe: Container-Management"
   ]
  },
  {
   "cell_type": "markdown",
   "metadata": {},
   "source": [
    "### Aufgabentext\n",
    "\n",
    "Für eine Reederei soll ein Managementsystem für Container entwickelt werden:\n",
    "\n",
    "Für die Beladung sind für jeden Container die Größe, das Leergewicht und sein Typ von Bedeutung. Es existieren die folgenden Typen von Containern: Eurocontainer, 20”, 40” und Flugcontainer, und zwar jeweils in einer Kühl‐ und einer Standardvariante. Die Unterscheidung verschiedener Typen ist wichtig, da für Eurocontainer die Maße (d.h. Länge, Breite, Höhe und Wandstärke) festgelegt sind, die sie minimal haben müssen und maximal haben dürfen. Flugcontainer sind jeweils für bestimmte Flugzeugtypen verwendbar.\n",
    "\n",
    "Die oben diskutierten Container werden auch als konventionelle Container bezeichnet. Für gefährliche Güter gibt es zusätzlich Sicherheitscontainer mit besonderen Vorschriften. Innerhalb der Sicherheitscontainer ist eine weitere Klassifikation nach der Art der zugelassenen Güter erforderlich. Für Nuklearabfälle existieren \"Castorcontainer\", für Chemikalien spezielle Chemiecontainer. Zur genaueren Charakterisierung sind die Chemikalien in Stoffklassen eingeordnet, so dass zu einem Chemiecontainer vermerkt werden kann, Stoffe welcher Stoffklassen und welchen Aggregatszustands mit ihm transportiert werden können.\n",
    "\n",
    "Sicherheitscontainer beinhalten ein spezielles codierbares Schließsystem, z.B. der Marke “Franz Jäger Berlin”, einen Transportraum bestimmter Größe sowie ein spezielles Überwachungssystem EGON (Elektronisches Gerät Ohne Name), dass mit dem Schließsystem kompatibel sein muss. Die Kühlcontainer bestehen aus einem Aufbewahrungsbereich bestimmter Größe und einem oder mehreren Kühlaggregaten. Diese haben eine maximale Kühldauer. Die Beladung konventioneller Container geschieht in folgender Weise: Paletten werden in den Container gestapelt. Auf den Paletten befinden sich entweder stapelbare Gitterrostkästen oder stapelbare Kartons. Nicht stapelfähige Dosen oder lose Güter können auf die Gitterrostkästen gelegt werden. Die Belastbarkeit einer Palette wird in kg angegeben.\n"
   ]
  }
 ],
 "metadata": {
  "celltoolbar": "Raw Cell Format",
  "kernelspec": {
   "display_name": "Python 3",
   "language": "python",
   "name": "python3"
  },
  "language_info": {
   "codemirror_mode": {
    "name": "ipython",
    "version": 3
   },
   "file_extension": ".py",
   "mimetype": "text/x-python",
   "name": "python",
   "nbconvert_exporter": "python",
   "pygments_lexer": "ipython3",
   "version": "3.8.2"
  }
 },
 "nbformat": 4,
 "nbformat_minor": 2
}